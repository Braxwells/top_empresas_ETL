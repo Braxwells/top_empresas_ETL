{
 "cells": [
  {
   "cell_type": "code",
   "execution_count": 105,
   "outputs": [],
   "source": [
    "from selenium import webdriver\n",
    "from selenium.webdriver.common.by import By\n",
    "import pandas as pd\n",
    "import time\n",
    "from io import StringIO"
   ],
   "metadata": {
    "collapsed": false,
    "ExecuteTime": {
     "end_time": "2023-11-26T15:19:38.587587Z",
     "start_time": "2023-11-26T15:19:38.577308Z"
    }
   },
   "id": "e60d5c3c7a29523"
  },
  {
   "cell_type": "code",
   "execution_count": 203,
   "outputs": [],
   "source": [
    "\n",
    "# Configuración del navegador\n",
    "driver = webdriver.Chrome()\n",
    "\n",
    "url = 'https://www.investing.com/equities/united-states'\n",
    "driver.get(url)\n",
    "\n",
    "time.sleep(5)"
   ],
   "metadata": {
    "collapsed": false,
    "ExecuteTime": {
     "end_time": "2023-11-26T21:25:48.980193Z",
     "start_time": "2023-11-26T21:25:35.857131Z"
    }
   },
   "id": "83a202d877b1da96"
  },
  {
   "cell_type": "code",
   "execution_count": 0,
   "outputs": [],
   "source": [
    "driver.find_element(By.ID, 'onetrust-accept-btn-handler').click()\n",
    "time.sleep(2)\n",
    "driver.find_element(By.CLASS_NAME, 'largeBannerCloser').click()"
   ],
   "metadata": {
    "collapsed": false
   },
   "id": "69d5b07eb6189cd9"
  },
  {
   "cell_type": "code",
   "execution_count": 110,
   "outputs": [],
   "source": [
    "\n",
    "table_element = driver.find_element(By.ID,'cross_rate_markets_stocks_1')\n",
    "\n",
    "\n",
    "table_html = table_element.get_attribute('outerHTML')\n",
    "\n",
    "    # Utilizar pandas para leer la tabla HTML y convertirla a un DataFrame\n",
    "df = pd.read_html(StringIO(table_html))[0]\n",
    "\n",
    "    # Guardar el DataFrame en un archivo CSV\n",
    "df.to_csv('tabla_datos.csv', index=False)"
   ],
   "metadata": {
    "collapsed": false,
    "ExecuteTime": {
     "end_time": "2023-11-26T15:21:43.893763Z",
     "start_time": "2023-11-26T15:21:43.759032Z"
    }
   },
   "id": "9d9ed6db95a4f264"
  },
  {
   "cell_type": "code",
   "execution_count": 179,
   "outputs": [
    {
     "data": {
      "text/plain": "     Unnamed: 0                  Name    Last    High     Low     Chg.  \\\n0           NaN                 Tesla  235.45  238.75  232.33    +1.24   \n1           NaN                NVIDIA  477.76  489.21  477.45    -9.40   \n2           NaN                 Apple  189.97  190.90  189.25    -1.34   \n3           NaN            Ford Motor   10.40   10.53   10.28    +0.14   \n4           NaN            Amazon.com  146.74  147.20  145.32    +0.03   \n..          ...                   ...     ...     ...     ...      ...   \n995         NaN  Education Management    0.00    0.00    0.00  0.00000   \n996         NaN      First Bancshares   22.99   22.99   22.99     0.00   \n997         NaN      Global Indemnity   33.31   34.99   33.30    +0.00   \n998         NaN          Ignite Nutra    0.00    0.00    0.00    0.000   \n999         NaN   Gyrodyne of America    8.95    8.96    8.95     0.00   \n\n     Chg. %    Vol.   Time  Unnamed: 9  \n0    +0.53%  65.02M  24/11         NaN  \n1    -1.93%  29.37M  24/11         NaN  \n2    -0.70%  24.04M  24/11         NaN  \n3    +1.36%  22.02M  24/11         NaN  \n4    +0.02%  21.61M  24/11         NaN  \n..      ...     ...    ...         ...  \n995   0.00%       0  03/08         NaN  \n996   0.00%       0  13/11         NaN  \n997  +0.00%       0  21/11         NaN  \n998   0.00%       0  27/10         NaN  \n999   0.00%       0  22/11         NaN  \n\n[1000 rows x 10 columns]",
      "text/html": "<div>\n<style scoped>\n    .dataframe tbody tr th:only-of-type {\n        vertical-align: middle;\n    }\n\n    .dataframe tbody tr th {\n        vertical-align: top;\n    }\n\n    .dataframe thead th {\n        text-align: right;\n    }\n</style>\n<table border=\"1\" class=\"dataframe\">\n  <thead>\n    <tr style=\"text-align: right;\">\n      <th></th>\n      <th>Unnamed: 0</th>\n      <th>Name</th>\n      <th>Last</th>\n      <th>High</th>\n      <th>Low</th>\n      <th>Chg.</th>\n      <th>Chg. %</th>\n      <th>Vol.</th>\n      <th>Time</th>\n      <th>Unnamed: 9</th>\n    </tr>\n  </thead>\n  <tbody>\n    <tr>\n      <th>0</th>\n      <td>NaN</td>\n      <td>Tesla</td>\n      <td>235.45</td>\n      <td>238.75</td>\n      <td>232.33</td>\n      <td>+1.24</td>\n      <td>+0.53%</td>\n      <td>65.02M</td>\n      <td>24/11</td>\n      <td>NaN</td>\n    </tr>\n    <tr>\n      <th>1</th>\n      <td>NaN</td>\n      <td>NVIDIA</td>\n      <td>477.76</td>\n      <td>489.21</td>\n      <td>477.45</td>\n      <td>-9.40</td>\n      <td>-1.93%</td>\n      <td>29.37M</td>\n      <td>24/11</td>\n      <td>NaN</td>\n    </tr>\n    <tr>\n      <th>2</th>\n      <td>NaN</td>\n      <td>Apple</td>\n      <td>189.97</td>\n      <td>190.90</td>\n      <td>189.25</td>\n      <td>-1.34</td>\n      <td>-0.70%</td>\n      <td>24.04M</td>\n      <td>24/11</td>\n      <td>NaN</td>\n    </tr>\n    <tr>\n      <th>3</th>\n      <td>NaN</td>\n      <td>Ford Motor</td>\n      <td>10.40</td>\n      <td>10.53</td>\n      <td>10.28</td>\n      <td>+0.14</td>\n      <td>+1.36%</td>\n      <td>22.02M</td>\n      <td>24/11</td>\n      <td>NaN</td>\n    </tr>\n    <tr>\n      <th>4</th>\n      <td>NaN</td>\n      <td>Amazon.com</td>\n      <td>146.74</td>\n      <td>147.20</td>\n      <td>145.32</td>\n      <td>+0.03</td>\n      <td>+0.02%</td>\n      <td>21.61M</td>\n      <td>24/11</td>\n      <td>NaN</td>\n    </tr>\n    <tr>\n      <th>...</th>\n      <td>...</td>\n      <td>...</td>\n      <td>...</td>\n      <td>...</td>\n      <td>...</td>\n      <td>...</td>\n      <td>...</td>\n      <td>...</td>\n      <td>...</td>\n      <td>...</td>\n    </tr>\n    <tr>\n      <th>995</th>\n      <td>NaN</td>\n      <td>Education Management</td>\n      <td>0.00</td>\n      <td>0.00</td>\n      <td>0.00</td>\n      <td>0.00000</td>\n      <td>0.00%</td>\n      <td>0</td>\n      <td>03/08</td>\n      <td>NaN</td>\n    </tr>\n    <tr>\n      <th>996</th>\n      <td>NaN</td>\n      <td>First Bancshares</td>\n      <td>22.99</td>\n      <td>22.99</td>\n      <td>22.99</td>\n      <td>0.00</td>\n      <td>0.00%</td>\n      <td>0</td>\n      <td>13/11</td>\n      <td>NaN</td>\n    </tr>\n    <tr>\n      <th>997</th>\n      <td>NaN</td>\n      <td>Global Indemnity</td>\n      <td>33.31</td>\n      <td>34.99</td>\n      <td>33.30</td>\n      <td>+0.00</td>\n      <td>+0.00%</td>\n      <td>0</td>\n      <td>21/11</td>\n      <td>NaN</td>\n    </tr>\n    <tr>\n      <th>998</th>\n      <td>NaN</td>\n      <td>Ignite Nutra</td>\n      <td>0.00</td>\n      <td>0.00</td>\n      <td>0.00</td>\n      <td>0.000</td>\n      <td>0.00%</td>\n      <td>0</td>\n      <td>27/10</td>\n      <td>NaN</td>\n    </tr>\n    <tr>\n      <th>999</th>\n      <td>NaN</td>\n      <td>Gyrodyne of America</td>\n      <td>8.95</td>\n      <td>8.96</td>\n      <td>8.95</td>\n      <td>0.00</td>\n      <td>0.00%</td>\n      <td>0</td>\n      <td>22/11</td>\n      <td>NaN</td>\n    </tr>\n  </tbody>\n</table>\n<p>1000 rows × 10 columns</p>\n</div>"
     },
     "execution_count": 179,
     "metadata": {},
     "output_type": "execute_result"
    }
   ],
   "source": [
    "df_investing = pd.read_csv('tabla_datos.csv')\n",
    "df_investing"
   ],
   "metadata": {
    "collapsed": false,
    "ExecuteTime": {
     "end_time": "2023-11-26T15:54:10.162661Z",
     "start_time": "2023-11-26T15:54:10.147529Z"
    }
   },
   "id": "353d990d98aa2aaa"
  },
  {
   "cell_type": "code",
   "execution_count": 180,
   "outputs": [
    {
     "data": {
      "text/plain": "                     Name    Last    High     Low     Chg.  Chg. %    Vol.  \\\n0                   Tesla  235.45  238.75  232.33    +1.24  +0.53%  65.02M   \n1                  NVIDIA  477.76  489.21  477.45    -9.40  -1.93%  29.37M   \n2                   Apple  189.97  190.90  189.25    -1.34  -0.70%  24.04M   \n3              Ford Motor   10.40   10.53   10.28    +0.14  +1.36%  22.02M   \n4              Amazon.com  146.74  147.20  145.32    +0.03  +0.02%  21.61M   \n..                    ...     ...     ...     ...      ...     ...     ...   \n995  Education Management    0.00    0.00    0.00  0.00000   0.00%       0   \n996      First Bancshares   22.99   22.99   22.99     0.00   0.00%       0   \n997      Global Indemnity   33.31   34.99   33.30    +0.00  +0.00%       0   \n998          Ignite Nutra    0.00    0.00    0.00    0.000   0.00%       0   \n999   Gyrodyne of America    8.95    8.96    8.95     0.00   0.00%       0   \n\n      Time  \n0    24/11  \n1    24/11  \n2    24/11  \n3    24/11  \n4    24/11  \n..     ...  \n995  03/08  \n996  13/11  \n997  21/11  \n998  27/10  \n999  22/11  \n\n[1000 rows x 8 columns]",
      "text/html": "<div>\n<style scoped>\n    .dataframe tbody tr th:only-of-type {\n        vertical-align: middle;\n    }\n\n    .dataframe tbody tr th {\n        vertical-align: top;\n    }\n\n    .dataframe thead th {\n        text-align: right;\n    }\n</style>\n<table border=\"1\" class=\"dataframe\">\n  <thead>\n    <tr style=\"text-align: right;\">\n      <th></th>\n      <th>Name</th>\n      <th>Last</th>\n      <th>High</th>\n      <th>Low</th>\n      <th>Chg.</th>\n      <th>Chg. %</th>\n      <th>Vol.</th>\n      <th>Time</th>\n    </tr>\n  </thead>\n  <tbody>\n    <tr>\n      <th>0</th>\n      <td>Tesla</td>\n      <td>235.45</td>\n      <td>238.75</td>\n      <td>232.33</td>\n      <td>+1.24</td>\n      <td>+0.53%</td>\n      <td>65.02M</td>\n      <td>24/11</td>\n    </tr>\n    <tr>\n      <th>1</th>\n      <td>NVIDIA</td>\n      <td>477.76</td>\n      <td>489.21</td>\n      <td>477.45</td>\n      <td>-9.40</td>\n      <td>-1.93%</td>\n      <td>29.37M</td>\n      <td>24/11</td>\n    </tr>\n    <tr>\n      <th>2</th>\n      <td>Apple</td>\n      <td>189.97</td>\n      <td>190.90</td>\n      <td>189.25</td>\n      <td>-1.34</td>\n      <td>-0.70%</td>\n      <td>24.04M</td>\n      <td>24/11</td>\n    </tr>\n    <tr>\n      <th>3</th>\n      <td>Ford Motor</td>\n      <td>10.40</td>\n      <td>10.53</td>\n      <td>10.28</td>\n      <td>+0.14</td>\n      <td>+1.36%</td>\n      <td>22.02M</td>\n      <td>24/11</td>\n    </tr>\n    <tr>\n      <th>4</th>\n      <td>Amazon.com</td>\n      <td>146.74</td>\n      <td>147.20</td>\n      <td>145.32</td>\n      <td>+0.03</td>\n      <td>+0.02%</td>\n      <td>21.61M</td>\n      <td>24/11</td>\n    </tr>\n    <tr>\n      <th>...</th>\n      <td>...</td>\n      <td>...</td>\n      <td>...</td>\n      <td>...</td>\n      <td>...</td>\n      <td>...</td>\n      <td>...</td>\n      <td>...</td>\n    </tr>\n    <tr>\n      <th>995</th>\n      <td>Education Management</td>\n      <td>0.00</td>\n      <td>0.00</td>\n      <td>0.00</td>\n      <td>0.00000</td>\n      <td>0.00%</td>\n      <td>0</td>\n      <td>03/08</td>\n    </tr>\n    <tr>\n      <th>996</th>\n      <td>First Bancshares</td>\n      <td>22.99</td>\n      <td>22.99</td>\n      <td>22.99</td>\n      <td>0.00</td>\n      <td>0.00%</td>\n      <td>0</td>\n      <td>13/11</td>\n    </tr>\n    <tr>\n      <th>997</th>\n      <td>Global Indemnity</td>\n      <td>33.31</td>\n      <td>34.99</td>\n      <td>33.30</td>\n      <td>+0.00</td>\n      <td>+0.00%</td>\n      <td>0</td>\n      <td>21/11</td>\n    </tr>\n    <tr>\n      <th>998</th>\n      <td>Ignite Nutra</td>\n      <td>0.00</td>\n      <td>0.00</td>\n      <td>0.00</td>\n      <td>0.000</td>\n      <td>0.00%</td>\n      <td>0</td>\n      <td>27/10</td>\n    </tr>\n    <tr>\n      <th>999</th>\n      <td>Gyrodyne of America</td>\n      <td>8.95</td>\n      <td>8.96</td>\n      <td>8.95</td>\n      <td>0.00</td>\n      <td>0.00%</td>\n      <td>0</td>\n      <td>22/11</td>\n    </tr>\n  </tbody>\n</table>\n<p>1000 rows × 8 columns</p>\n</div>"
     },
     "execution_count": 180,
     "metadata": {},
     "output_type": "execute_result"
    }
   ],
   "source": [
    "df_investing = df.dropna(axis=1)\n",
    "df_investing"
   ],
   "metadata": {
    "collapsed": false,
    "ExecuteTime": {
     "end_time": "2023-11-26T15:54:11.057584Z",
     "start_time": "2023-11-26T15:54:11.051788Z"
    }
   },
   "id": "d5f9ab329a1ee912"
  },
  {
   "cell_type": "code",
   "execution_count": 115,
   "outputs": [],
   "source": [
    "driver.find_element(By.ID, 'filter_fundamental').click()"
   ],
   "metadata": {
    "collapsed": false,
    "ExecuteTime": {
     "end_time": "2023-11-26T15:23:01.682713Z",
     "start_time": "2023-11-26T15:23:01.319901Z"
    }
   },
   "id": "46aa7e94b26c31bd"
  },
  {
   "cell_type": "code",
   "execution_count": 98,
   "outputs": [],
   "source": [
    "table_element = driver.find_element(By.ID,'fundamental')\n",
    "\n",
    "\n",
    "table_html = table_element.get_attribute('outerHTML')\n",
    "\n",
    "    # Utilizar pandas para leer la tabla HTML y convertirla a un DataFrame\n",
    "df = pd.read_html(StringIO(table_html))[0]\n",
    "\n",
    "    # Guardar el DataFrame en un archivo CSV\n",
    "df.to_csv('tabla_datos2.csv', index=False)"
   ],
   "metadata": {
    "collapsed": false,
    "ExecuteTime": {
     "end_time": "2023-11-26T15:14:28.457245Z",
     "start_time": "2023-11-26T15:14:28.335147Z"
    }
   },
   "id": "72b304a37a056704"
  },
  {
   "cell_type": "code",
   "execution_count": 181,
   "outputs": [
    {
     "data": {
      "text/plain": "     Unnamed: 0                         Name Average Vol. (3m) Market Cap  \\\n0           NaN            1-800 FLOWERS.COM           475.13K     571.1M   \n1           NaN                   3D Systems             2.67M    717.88M   \n2           NaN                           3M             3.65M     52.99B   \n3           NaN                          8x8             2.23M    356.72M   \n4           NaN                         AAON           382.59K      5.19B   \n..          ...                          ...               ...        ...   \n995         NaN                       Yellow           189.10K    102.69M   \n996         NaN                  Yum! Brands             1.51M     36.02B   \n997         NaN                Zimmer Biomet             1.78M      23.7B   \n998         NaN                        Zions             2.77M      5.09B   \n999         NaN  ZW Data Action Technologies            14.11K       6.2M   \n\n     Revenue P/E Ratio   Beta  \n0      1.98B    -13.38  1.640  \n1    505.95M     -6.99  1.720  \n2     32.75B     -7.16  0.980  \n3    737.22M     -5.90  1.320  \n4      1.12B     30.43  0.833  \n..       ...       ...    ...  \n995    4.85B     -1.29    NaN  \n996    7.06B     23.97  1.040  \n997    7.28B     49.93  1.020  \n998    3.08B      6.33  1.150  \n999   29.74M     -0.75  0.844  \n\n[1000 rows x 7 columns]",
      "text/html": "<div>\n<style scoped>\n    .dataframe tbody tr th:only-of-type {\n        vertical-align: middle;\n    }\n\n    .dataframe tbody tr th {\n        vertical-align: top;\n    }\n\n    .dataframe thead th {\n        text-align: right;\n    }\n</style>\n<table border=\"1\" class=\"dataframe\">\n  <thead>\n    <tr style=\"text-align: right;\">\n      <th></th>\n      <th>Unnamed: 0</th>\n      <th>Name</th>\n      <th>Average Vol. (3m)</th>\n      <th>Market Cap</th>\n      <th>Revenue</th>\n      <th>P/E Ratio</th>\n      <th>Beta</th>\n    </tr>\n  </thead>\n  <tbody>\n    <tr>\n      <th>0</th>\n      <td>NaN</td>\n      <td>1-800 FLOWERS.COM</td>\n      <td>475.13K</td>\n      <td>571.1M</td>\n      <td>1.98B</td>\n      <td>-13.38</td>\n      <td>1.640</td>\n    </tr>\n    <tr>\n      <th>1</th>\n      <td>NaN</td>\n      <td>3D Systems</td>\n      <td>2.67M</td>\n      <td>717.88M</td>\n      <td>505.95M</td>\n      <td>-6.99</td>\n      <td>1.720</td>\n    </tr>\n    <tr>\n      <th>2</th>\n      <td>NaN</td>\n      <td>3M</td>\n      <td>3.65M</td>\n      <td>52.99B</td>\n      <td>32.75B</td>\n      <td>-7.16</td>\n      <td>0.980</td>\n    </tr>\n    <tr>\n      <th>3</th>\n      <td>NaN</td>\n      <td>8x8</td>\n      <td>2.23M</td>\n      <td>356.72M</td>\n      <td>737.22M</td>\n      <td>-5.90</td>\n      <td>1.320</td>\n    </tr>\n    <tr>\n      <th>4</th>\n      <td>NaN</td>\n      <td>AAON</td>\n      <td>382.59K</td>\n      <td>5.19B</td>\n      <td>1.12B</td>\n      <td>30.43</td>\n      <td>0.833</td>\n    </tr>\n    <tr>\n      <th>...</th>\n      <td>...</td>\n      <td>...</td>\n      <td>...</td>\n      <td>...</td>\n      <td>...</td>\n      <td>...</td>\n      <td>...</td>\n    </tr>\n    <tr>\n      <th>995</th>\n      <td>NaN</td>\n      <td>Yellow</td>\n      <td>189.10K</td>\n      <td>102.69M</td>\n      <td>4.85B</td>\n      <td>-1.29</td>\n      <td>NaN</td>\n    </tr>\n    <tr>\n      <th>996</th>\n      <td>NaN</td>\n      <td>Yum! Brands</td>\n      <td>1.51M</td>\n      <td>36.02B</td>\n      <td>7.06B</td>\n      <td>23.97</td>\n      <td>1.040</td>\n    </tr>\n    <tr>\n      <th>997</th>\n      <td>NaN</td>\n      <td>Zimmer Biomet</td>\n      <td>1.78M</td>\n      <td>23.7B</td>\n      <td>7.28B</td>\n      <td>49.93</td>\n      <td>1.020</td>\n    </tr>\n    <tr>\n      <th>998</th>\n      <td>NaN</td>\n      <td>Zions</td>\n      <td>2.77M</td>\n      <td>5.09B</td>\n      <td>3.08B</td>\n      <td>6.33</td>\n      <td>1.150</td>\n    </tr>\n    <tr>\n      <th>999</th>\n      <td>NaN</td>\n      <td>ZW Data Action Technologies</td>\n      <td>14.11K</td>\n      <td>6.2M</td>\n      <td>29.74M</td>\n      <td>-0.75</td>\n      <td>0.844</td>\n    </tr>\n  </tbody>\n</table>\n<p>1000 rows × 7 columns</p>\n</div>"
     },
     "execution_count": 181,
     "metadata": {},
     "output_type": "execute_result"
    }
   ],
   "source": [
    "df_investing2 = pd.read_csv('tabla_datos2.csv')\n",
    "df_investing2"
   ],
   "metadata": {
    "collapsed": false,
    "ExecuteTime": {
     "end_time": "2023-11-26T15:54:14.277914Z",
     "start_time": "2023-11-26T15:54:14.255005Z"
    }
   },
   "id": "418b810ab46bafbd"
  },
  {
   "cell_type": "code",
   "execution_count": 182,
   "outputs": [
    {
     "data": {
      "text/plain": "                            Name Average Vol. (3m) Market Cap  Revenue  \\\n0              1-800 FLOWERS.COM           475.13K     571.1M    1.98B   \n1                     3D Systems             2.67M    717.88M  505.95M   \n2                             3M             3.65M     52.99B   32.75B   \n3                            8x8             2.23M    356.72M  737.22M   \n4                           AAON           382.59K      5.19B    1.12B   \n..                           ...               ...        ...      ...   \n995                       Yellow           189.10K    102.69M    4.85B   \n996                  Yum! Brands             1.51M     36.02B    7.06B   \n997                Zimmer Biomet             1.78M      23.7B    7.28B   \n998                        Zions             2.77M      5.09B    3.08B   \n999  ZW Data Action Technologies            14.11K       6.2M   29.74M   \n\n    P/E Ratio   Beta  \n0      -13.38  1.640  \n1       -6.99  1.720  \n2       -7.16  0.980  \n3       -5.90  1.320  \n4       30.43  0.833  \n..        ...    ...  \n995     -1.29    NaN  \n996     23.97  1.040  \n997     49.93  1.020  \n998      6.33  1.150  \n999     -0.75  0.844  \n\n[1000 rows x 6 columns]",
      "text/html": "<div>\n<style scoped>\n    .dataframe tbody tr th:only-of-type {\n        vertical-align: middle;\n    }\n\n    .dataframe tbody tr th {\n        vertical-align: top;\n    }\n\n    .dataframe thead th {\n        text-align: right;\n    }\n</style>\n<table border=\"1\" class=\"dataframe\">\n  <thead>\n    <tr style=\"text-align: right;\">\n      <th></th>\n      <th>Name</th>\n      <th>Average Vol. (3m)</th>\n      <th>Market Cap</th>\n      <th>Revenue</th>\n      <th>P/E Ratio</th>\n      <th>Beta</th>\n    </tr>\n  </thead>\n  <tbody>\n    <tr>\n      <th>0</th>\n      <td>1-800 FLOWERS.COM</td>\n      <td>475.13K</td>\n      <td>571.1M</td>\n      <td>1.98B</td>\n      <td>-13.38</td>\n      <td>1.640</td>\n    </tr>\n    <tr>\n      <th>1</th>\n      <td>3D Systems</td>\n      <td>2.67M</td>\n      <td>717.88M</td>\n      <td>505.95M</td>\n      <td>-6.99</td>\n      <td>1.720</td>\n    </tr>\n    <tr>\n      <th>2</th>\n      <td>3M</td>\n      <td>3.65M</td>\n      <td>52.99B</td>\n      <td>32.75B</td>\n      <td>-7.16</td>\n      <td>0.980</td>\n    </tr>\n    <tr>\n      <th>3</th>\n      <td>8x8</td>\n      <td>2.23M</td>\n      <td>356.72M</td>\n      <td>737.22M</td>\n      <td>-5.90</td>\n      <td>1.320</td>\n    </tr>\n    <tr>\n      <th>4</th>\n      <td>AAON</td>\n      <td>382.59K</td>\n      <td>5.19B</td>\n      <td>1.12B</td>\n      <td>30.43</td>\n      <td>0.833</td>\n    </tr>\n    <tr>\n      <th>...</th>\n      <td>...</td>\n      <td>...</td>\n      <td>...</td>\n      <td>...</td>\n      <td>...</td>\n      <td>...</td>\n    </tr>\n    <tr>\n      <th>995</th>\n      <td>Yellow</td>\n      <td>189.10K</td>\n      <td>102.69M</td>\n      <td>4.85B</td>\n      <td>-1.29</td>\n      <td>NaN</td>\n    </tr>\n    <tr>\n      <th>996</th>\n      <td>Yum! Brands</td>\n      <td>1.51M</td>\n      <td>36.02B</td>\n      <td>7.06B</td>\n      <td>23.97</td>\n      <td>1.040</td>\n    </tr>\n    <tr>\n      <th>997</th>\n      <td>Zimmer Biomet</td>\n      <td>1.78M</td>\n      <td>23.7B</td>\n      <td>7.28B</td>\n      <td>49.93</td>\n      <td>1.020</td>\n    </tr>\n    <tr>\n      <th>998</th>\n      <td>Zions</td>\n      <td>2.77M</td>\n      <td>5.09B</td>\n      <td>3.08B</td>\n      <td>6.33</td>\n      <td>1.150</td>\n    </tr>\n    <tr>\n      <th>999</th>\n      <td>ZW Data Action Technologies</td>\n      <td>14.11K</td>\n      <td>6.2M</td>\n      <td>29.74M</td>\n      <td>-0.75</td>\n      <td>0.844</td>\n    </tr>\n  </tbody>\n</table>\n<p>1000 rows × 6 columns</p>\n</div>"
     },
     "execution_count": 182,
     "metadata": {},
     "output_type": "execute_result"
    }
   ],
   "source": [
    "df_investing2 = df_investing2.drop(columns=['Unnamed: 0'])\n",
    "df_investing2"
   ],
   "metadata": {
    "collapsed": false,
    "ExecuteTime": {
     "end_time": "2023-11-26T15:54:14.990324Z",
     "start_time": "2023-11-26T15:54:14.979128Z"
    }
   },
   "id": "cb26347132abbd9e"
  },
  {
   "cell_type": "code",
   "execution_count": 183,
   "outputs": [
    {
     "data": {
      "text/plain": "                     Name    Last    High     Low     Chg.  Chg. %    Vol.  \\\n0                   Tesla  235.45  238.75  232.33    +1.24  +0.53%  65.02M   \n1                  NVIDIA  477.76  489.21  477.45    -9.40  -1.93%  29.37M   \n2                   Apple  189.97  190.90  189.25    -1.34  -0.70%  24.04M   \n3              Ford Motor   10.40   10.53   10.28    +0.14  +1.36%  22.02M   \n4              Amazon.com  146.74  147.20  145.32    +0.03  +0.02%  21.61M   \n..                    ...     ...     ...     ...      ...     ...     ...   \n995  Education Management    0.00    0.00    0.00  0.00000   0.00%       0   \n996      First Bancshares   22.99   22.99   22.99     0.00   0.00%       0   \n997      Global Indemnity   33.31   34.99   33.30    +0.00  +0.00%       0   \n998          Ignite Nutra    0.00    0.00    0.00    0.000   0.00%       0   \n999   Gyrodyne of America    8.95    8.96    8.95     0.00   0.00%       0   \n\n      Time Average Vol. (3m) Market Cap  Revenue P/E Ratio    Beta  \n0    24/11           120.13M    748.48B   95.92B     69.51   2.280  \n1    24/11            46.04M      1.18T   44.87B     64.17   1.690  \n2    24/11            57.32M      2.95T  383.29B     30.79   1.310  \n3    24/11            50.32M     41.63B  174.23B      6.78   1.690  \n4    24/11            51.86M      1.52T  554.03B     74.87   1.180  \n..     ...               ...        ...      ...       ...     ...  \n995  03/08             4.80K        126      NaN       NaN -16.930  \n996  13/11             0.25K     56.23M   21.35M      8.81   0.235  \n997  21/11             2.28K    465.46M  574.20M     21.35   0.417  \n998  27/10             1.81K         30      NaN       NaN  77.240  \n999  22/11             0.97K     14.09M      NaN     -2.87   0.384  \n\n[1000 rows x 13 columns]",
      "text/html": "<div>\n<style scoped>\n    .dataframe tbody tr th:only-of-type {\n        vertical-align: middle;\n    }\n\n    .dataframe tbody tr th {\n        vertical-align: top;\n    }\n\n    .dataframe thead th {\n        text-align: right;\n    }\n</style>\n<table border=\"1\" class=\"dataframe\">\n  <thead>\n    <tr style=\"text-align: right;\">\n      <th></th>\n      <th>Name</th>\n      <th>Last</th>\n      <th>High</th>\n      <th>Low</th>\n      <th>Chg.</th>\n      <th>Chg. %</th>\n      <th>Vol.</th>\n      <th>Time</th>\n      <th>Average Vol. (3m)</th>\n      <th>Market Cap</th>\n      <th>Revenue</th>\n      <th>P/E Ratio</th>\n      <th>Beta</th>\n    </tr>\n  </thead>\n  <tbody>\n    <tr>\n      <th>0</th>\n      <td>Tesla</td>\n      <td>235.45</td>\n      <td>238.75</td>\n      <td>232.33</td>\n      <td>+1.24</td>\n      <td>+0.53%</td>\n      <td>65.02M</td>\n      <td>24/11</td>\n      <td>120.13M</td>\n      <td>748.48B</td>\n      <td>95.92B</td>\n      <td>69.51</td>\n      <td>2.280</td>\n    </tr>\n    <tr>\n      <th>1</th>\n      <td>NVIDIA</td>\n      <td>477.76</td>\n      <td>489.21</td>\n      <td>477.45</td>\n      <td>-9.40</td>\n      <td>-1.93%</td>\n      <td>29.37M</td>\n      <td>24/11</td>\n      <td>46.04M</td>\n      <td>1.18T</td>\n      <td>44.87B</td>\n      <td>64.17</td>\n      <td>1.690</td>\n    </tr>\n    <tr>\n      <th>2</th>\n      <td>Apple</td>\n      <td>189.97</td>\n      <td>190.90</td>\n      <td>189.25</td>\n      <td>-1.34</td>\n      <td>-0.70%</td>\n      <td>24.04M</td>\n      <td>24/11</td>\n      <td>57.32M</td>\n      <td>2.95T</td>\n      <td>383.29B</td>\n      <td>30.79</td>\n      <td>1.310</td>\n    </tr>\n    <tr>\n      <th>3</th>\n      <td>Ford Motor</td>\n      <td>10.40</td>\n      <td>10.53</td>\n      <td>10.28</td>\n      <td>+0.14</td>\n      <td>+1.36%</td>\n      <td>22.02M</td>\n      <td>24/11</td>\n      <td>50.32M</td>\n      <td>41.63B</td>\n      <td>174.23B</td>\n      <td>6.78</td>\n      <td>1.690</td>\n    </tr>\n    <tr>\n      <th>4</th>\n      <td>Amazon.com</td>\n      <td>146.74</td>\n      <td>147.20</td>\n      <td>145.32</td>\n      <td>+0.03</td>\n      <td>+0.02%</td>\n      <td>21.61M</td>\n      <td>24/11</td>\n      <td>51.86M</td>\n      <td>1.52T</td>\n      <td>554.03B</td>\n      <td>74.87</td>\n      <td>1.180</td>\n    </tr>\n    <tr>\n      <th>...</th>\n      <td>...</td>\n      <td>...</td>\n      <td>...</td>\n      <td>...</td>\n      <td>...</td>\n      <td>...</td>\n      <td>...</td>\n      <td>...</td>\n      <td>...</td>\n      <td>...</td>\n      <td>...</td>\n      <td>...</td>\n      <td>...</td>\n    </tr>\n    <tr>\n      <th>995</th>\n      <td>Education Management</td>\n      <td>0.00</td>\n      <td>0.00</td>\n      <td>0.00</td>\n      <td>0.00000</td>\n      <td>0.00%</td>\n      <td>0</td>\n      <td>03/08</td>\n      <td>4.80K</td>\n      <td>126</td>\n      <td>NaN</td>\n      <td>NaN</td>\n      <td>-16.930</td>\n    </tr>\n    <tr>\n      <th>996</th>\n      <td>First Bancshares</td>\n      <td>22.99</td>\n      <td>22.99</td>\n      <td>22.99</td>\n      <td>0.00</td>\n      <td>0.00%</td>\n      <td>0</td>\n      <td>13/11</td>\n      <td>0.25K</td>\n      <td>56.23M</td>\n      <td>21.35M</td>\n      <td>8.81</td>\n      <td>0.235</td>\n    </tr>\n    <tr>\n      <th>997</th>\n      <td>Global Indemnity</td>\n      <td>33.31</td>\n      <td>34.99</td>\n      <td>33.30</td>\n      <td>+0.00</td>\n      <td>+0.00%</td>\n      <td>0</td>\n      <td>21/11</td>\n      <td>2.28K</td>\n      <td>465.46M</td>\n      <td>574.20M</td>\n      <td>21.35</td>\n      <td>0.417</td>\n    </tr>\n    <tr>\n      <th>998</th>\n      <td>Ignite Nutra</td>\n      <td>0.00</td>\n      <td>0.00</td>\n      <td>0.00</td>\n      <td>0.000</td>\n      <td>0.00%</td>\n      <td>0</td>\n      <td>27/10</td>\n      <td>1.81K</td>\n      <td>30</td>\n      <td>NaN</td>\n      <td>NaN</td>\n      <td>77.240</td>\n    </tr>\n    <tr>\n      <th>999</th>\n      <td>Gyrodyne of America</td>\n      <td>8.95</td>\n      <td>8.96</td>\n      <td>8.95</td>\n      <td>0.00</td>\n      <td>0.00%</td>\n      <td>0</td>\n      <td>22/11</td>\n      <td>0.97K</td>\n      <td>14.09M</td>\n      <td>NaN</td>\n      <td>-2.87</td>\n      <td>0.384</td>\n    </tr>\n  </tbody>\n</table>\n<p>1000 rows × 13 columns</p>\n</div>"
     },
     "execution_count": 183,
     "metadata": {},
     "output_type": "execute_result"
    }
   ],
   "source": [
    "#Combinamos\n",
    "df_investingFinal = pd.merge(df_investing, df_investing2, on='Name', how='inner')\n",
    "df_investingFinal"
   ],
   "metadata": {
    "collapsed": false,
    "ExecuteTime": {
     "end_time": "2023-11-26T15:54:16.890664Z",
     "start_time": "2023-11-26T15:54:16.862635Z"
    }
   },
   "id": "9343513b51bfce08"
  },
  {
   "cell_type": "markdown",
   "source": [],
   "metadata": {
    "collapsed": false
   },
   "id": "cf6c88066814679f"
  },
  {
   "cell_type": "code",
   "execution_count": 184,
   "outputs": [
    {
     "data": {
      "text/plain": "                     Name    Last    High     Low     Chg.  Chg. %    Vol.  \\\n0                   Tesla  235.45  238.75  232.33    +1.24  +0.53%  65.02M   \n1                  NVIDIA  477.76  489.21  477.45    -9.40  -1.93%  29.37M   \n2                   Apple  189.97  190.90  189.25    -1.34  -0.70%  24.04M   \n3              Ford Motor   10.40   10.53   10.28    +0.14  +1.36%  22.02M   \n4              Amazon.com  146.74  147.20  145.32    +0.03  +0.02%  21.61M   \n..                    ...     ...     ...     ...      ...     ...     ...   \n995  Education Management    0.00    0.00    0.00  0.00000   0.00%       0   \n996      First Bancshares   22.99   22.99   22.99     0.00   0.00%       0   \n997      Global Indemnity   33.31   34.99   33.30    +0.00  +0.00%       0   \n998          Ignite Nutra    0.00    0.00    0.00    0.000   0.00%       0   \n999   Gyrodyne of America    8.95    8.96    8.95     0.00   0.00%       0   \n\n          Time Average Vol. (3m) Market Cap  Revenue P/E Ratio    Beta  \n0   2023-11-24           120.13M    748.48B   95.92B     69.51   2.280  \n1   2023-11-24            46.04M      1.18T   44.87B     64.17   1.690  \n2   2023-11-24            57.32M      2.95T  383.29B     30.79   1.310  \n3   2023-11-24            50.32M     41.63B  174.23B      6.78   1.690  \n4   2023-11-24            51.86M      1.52T  554.03B     74.87   1.180  \n..         ...               ...        ...      ...       ...     ...  \n995 2023-08-03             4.80K        126      NaN       NaN -16.930  \n996 2023-11-13             0.25K     56.23M   21.35M      8.81   0.235  \n997 2023-11-21             2.28K    465.46M  574.20M     21.35   0.417  \n998 2023-10-27             1.81K         30      NaN       NaN  77.240  \n999 2023-11-22             0.97K     14.09M      NaN     -2.87   0.384  \n\n[1000 rows x 13 columns]",
      "text/html": "<div>\n<style scoped>\n    .dataframe tbody tr th:only-of-type {\n        vertical-align: middle;\n    }\n\n    .dataframe tbody tr th {\n        vertical-align: top;\n    }\n\n    .dataframe thead th {\n        text-align: right;\n    }\n</style>\n<table border=\"1\" class=\"dataframe\">\n  <thead>\n    <tr style=\"text-align: right;\">\n      <th></th>\n      <th>Name</th>\n      <th>Last</th>\n      <th>High</th>\n      <th>Low</th>\n      <th>Chg.</th>\n      <th>Chg. %</th>\n      <th>Vol.</th>\n      <th>Time</th>\n      <th>Average Vol. (3m)</th>\n      <th>Market Cap</th>\n      <th>Revenue</th>\n      <th>P/E Ratio</th>\n      <th>Beta</th>\n    </tr>\n  </thead>\n  <tbody>\n    <tr>\n      <th>0</th>\n      <td>Tesla</td>\n      <td>235.45</td>\n      <td>238.75</td>\n      <td>232.33</td>\n      <td>+1.24</td>\n      <td>+0.53%</td>\n      <td>65.02M</td>\n      <td>2023-11-24</td>\n      <td>120.13M</td>\n      <td>748.48B</td>\n      <td>95.92B</td>\n      <td>69.51</td>\n      <td>2.280</td>\n    </tr>\n    <tr>\n      <th>1</th>\n      <td>NVIDIA</td>\n      <td>477.76</td>\n      <td>489.21</td>\n      <td>477.45</td>\n      <td>-9.40</td>\n      <td>-1.93%</td>\n      <td>29.37M</td>\n      <td>2023-11-24</td>\n      <td>46.04M</td>\n      <td>1.18T</td>\n      <td>44.87B</td>\n      <td>64.17</td>\n      <td>1.690</td>\n    </tr>\n    <tr>\n      <th>2</th>\n      <td>Apple</td>\n      <td>189.97</td>\n      <td>190.90</td>\n      <td>189.25</td>\n      <td>-1.34</td>\n      <td>-0.70%</td>\n      <td>24.04M</td>\n      <td>2023-11-24</td>\n      <td>57.32M</td>\n      <td>2.95T</td>\n      <td>383.29B</td>\n      <td>30.79</td>\n      <td>1.310</td>\n    </tr>\n    <tr>\n      <th>3</th>\n      <td>Ford Motor</td>\n      <td>10.40</td>\n      <td>10.53</td>\n      <td>10.28</td>\n      <td>+0.14</td>\n      <td>+1.36%</td>\n      <td>22.02M</td>\n      <td>2023-11-24</td>\n      <td>50.32M</td>\n      <td>41.63B</td>\n      <td>174.23B</td>\n      <td>6.78</td>\n      <td>1.690</td>\n    </tr>\n    <tr>\n      <th>4</th>\n      <td>Amazon.com</td>\n      <td>146.74</td>\n      <td>147.20</td>\n      <td>145.32</td>\n      <td>+0.03</td>\n      <td>+0.02%</td>\n      <td>21.61M</td>\n      <td>2023-11-24</td>\n      <td>51.86M</td>\n      <td>1.52T</td>\n      <td>554.03B</td>\n      <td>74.87</td>\n      <td>1.180</td>\n    </tr>\n    <tr>\n      <th>...</th>\n      <td>...</td>\n      <td>...</td>\n      <td>...</td>\n      <td>...</td>\n      <td>...</td>\n      <td>...</td>\n      <td>...</td>\n      <td>...</td>\n      <td>...</td>\n      <td>...</td>\n      <td>...</td>\n      <td>...</td>\n      <td>...</td>\n    </tr>\n    <tr>\n      <th>995</th>\n      <td>Education Management</td>\n      <td>0.00</td>\n      <td>0.00</td>\n      <td>0.00</td>\n      <td>0.00000</td>\n      <td>0.00%</td>\n      <td>0</td>\n      <td>2023-08-03</td>\n      <td>4.80K</td>\n      <td>126</td>\n      <td>NaN</td>\n      <td>NaN</td>\n      <td>-16.930</td>\n    </tr>\n    <tr>\n      <th>996</th>\n      <td>First Bancshares</td>\n      <td>22.99</td>\n      <td>22.99</td>\n      <td>22.99</td>\n      <td>0.00</td>\n      <td>0.00%</td>\n      <td>0</td>\n      <td>2023-11-13</td>\n      <td>0.25K</td>\n      <td>56.23M</td>\n      <td>21.35M</td>\n      <td>8.81</td>\n      <td>0.235</td>\n    </tr>\n    <tr>\n      <th>997</th>\n      <td>Global Indemnity</td>\n      <td>33.31</td>\n      <td>34.99</td>\n      <td>33.30</td>\n      <td>+0.00</td>\n      <td>+0.00%</td>\n      <td>0</td>\n      <td>2023-11-21</td>\n      <td>2.28K</td>\n      <td>465.46M</td>\n      <td>574.20M</td>\n      <td>21.35</td>\n      <td>0.417</td>\n    </tr>\n    <tr>\n      <th>998</th>\n      <td>Ignite Nutra</td>\n      <td>0.00</td>\n      <td>0.00</td>\n      <td>0.00</td>\n      <td>0.000</td>\n      <td>0.00%</td>\n      <td>0</td>\n      <td>2023-10-27</td>\n      <td>1.81K</td>\n      <td>30</td>\n      <td>NaN</td>\n      <td>NaN</td>\n      <td>77.240</td>\n    </tr>\n    <tr>\n      <th>999</th>\n      <td>Gyrodyne of America</td>\n      <td>8.95</td>\n      <td>8.96</td>\n      <td>8.95</td>\n      <td>0.00</td>\n      <td>0.00%</td>\n      <td>0</td>\n      <td>2023-11-22</td>\n      <td>0.97K</td>\n      <td>14.09M</td>\n      <td>NaN</td>\n      <td>-2.87</td>\n      <td>0.384</td>\n    </tr>\n  </tbody>\n</table>\n<p>1000 rows × 13 columns</p>\n</div>"
     },
     "execution_count": 184,
     "metadata": {},
     "output_type": "execute_result"
    }
   ],
   "source": [
    "df_investingFinal['Time'] = pd.to_datetime(df_investingFinal['Time'] + '/2023', format='%d/%m/%Y', errors='coerce')\n",
    "\n",
    "df_investingFinal"
   ],
   "metadata": {
    "collapsed": false,
    "ExecuteTime": {
     "end_time": "2023-11-26T15:54:18.662171Z",
     "start_time": "2023-11-26T15:54:18.653330Z"
    }
   },
   "id": "10bd8006ce9d2c3"
  },
  {
   "cell_type": "code",
   "execution_count": 185,
   "outputs": [
    {
     "data": {
      "text/plain": "                     Name    Last    High     Low     Chg.  Chg. %    Vol.  \\\n0                   Tesla  235.45  238.75  232.33    +1.24  +0.53%  65.02M   \n1                  NVIDIA  477.76  489.21  477.45    -9.40  -1.93%  29.37M   \n2                   Apple  189.97  190.90  189.25    -1.34  -0.70%  24.04M   \n3              Ford Motor   10.40   10.53   10.28    +0.14  +1.36%  22.02M   \n4              Amazon.com  146.74  147.20  145.32    +0.03  +0.02%  21.61M   \n..                    ...     ...     ...     ...      ...     ...     ...   \n962                Auburn   20.32   20.64   20.32    +0.03  +0.15%   0.12K   \n963                 Acorn    7.60    7.60    7.60  -0.1500  -1.94%   0.10K   \n964  Hong Kong TV Network    7.09    7.09    7.09   +0.250  +3.65%   0.10K   \n966   Formula Systems ADR   61.40   61.40   60.62    -0.15  -0.24%   0.09K   \n967         First Capital   25.87   25.87   25.87    +0.34  +1.33%   0.07K   \n\n          Time Average Vol. (3m) Market Cap  Revenue P/E Ratio   Beta  \n0   2023-11-24           120.13M    748.48B   95.92B     69.51  2.280  \n1   2023-11-24            46.04M      1.18T   44.87B     64.17  1.690  \n2   2023-11-24            57.32M      2.95T  383.29B     30.79  1.310  \n3   2023-11-24            50.32M     41.63B  174.23B      6.78  1.690  \n4   2023-11-24            51.86M      1.52T  554.03B     74.87  1.180  \n..         ...               ...        ...      ...       ...    ...  \n962 2023-11-24             2.23K     71.16M   33.23M      7.25  0.591  \n963 2023-11-24             1.99K      18.5M    7.65M   -447.06  0.796  \n964 2023-11-24             0.25K     302.9M    3.73B       NaN    NaN  \n966 2023-11-24             0.71K    947.33M    2.64B     14.57  0.482  \n967 2023-11-24             3.98K     88.12M   41.66M      6.46  0.503  \n\n[951 rows x 13 columns]",
      "text/html": "<div>\n<style scoped>\n    .dataframe tbody tr th:only-of-type {\n        vertical-align: middle;\n    }\n\n    .dataframe tbody tr th {\n        vertical-align: top;\n    }\n\n    .dataframe thead th {\n        text-align: right;\n    }\n</style>\n<table border=\"1\" class=\"dataframe\">\n  <thead>\n    <tr style=\"text-align: right;\">\n      <th></th>\n      <th>Name</th>\n      <th>Last</th>\n      <th>High</th>\n      <th>Low</th>\n      <th>Chg.</th>\n      <th>Chg. %</th>\n      <th>Vol.</th>\n      <th>Time</th>\n      <th>Average Vol. (3m)</th>\n      <th>Market Cap</th>\n      <th>Revenue</th>\n      <th>P/E Ratio</th>\n      <th>Beta</th>\n    </tr>\n  </thead>\n  <tbody>\n    <tr>\n      <th>0</th>\n      <td>Tesla</td>\n      <td>235.45</td>\n      <td>238.75</td>\n      <td>232.33</td>\n      <td>+1.24</td>\n      <td>+0.53%</td>\n      <td>65.02M</td>\n      <td>2023-11-24</td>\n      <td>120.13M</td>\n      <td>748.48B</td>\n      <td>95.92B</td>\n      <td>69.51</td>\n      <td>2.280</td>\n    </tr>\n    <tr>\n      <th>1</th>\n      <td>NVIDIA</td>\n      <td>477.76</td>\n      <td>489.21</td>\n      <td>477.45</td>\n      <td>-9.40</td>\n      <td>-1.93%</td>\n      <td>29.37M</td>\n      <td>2023-11-24</td>\n      <td>46.04M</td>\n      <td>1.18T</td>\n      <td>44.87B</td>\n      <td>64.17</td>\n      <td>1.690</td>\n    </tr>\n    <tr>\n      <th>2</th>\n      <td>Apple</td>\n      <td>189.97</td>\n      <td>190.90</td>\n      <td>189.25</td>\n      <td>-1.34</td>\n      <td>-0.70%</td>\n      <td>24.04M</td>\n      <td>2023-11-24</td>\n      <td>57.32M</td>\n      <td>2.95T</td>\n      <td>383.29B</td>\n      <td>30.79</td>\n      <td>1.310</td>\n    </tr>\n    <tr>\n      <th>3</th>\n      <td>Ford Motor</td>\n      <td>10.40</td>\n      <td>10.53</td>\n      <td>10.28</td>\n      <td>+0.14</td>\n      <td>+1.36%</td>\n      <td>22.02M</td>\n      <td>2023-11-24</td>\n      <td>50.32M</td>\n      <td>41.63B</td>\n      <td>174.23B</td>\n      <td>6.78</td>\n      <td>1.690</td>\n    </tr>\n    <tr>\n      <th>4</th>\n      <td>Amazon.com</td>\n      <td>146.74</td>\n      <td>147.20</td>\n      <td>145.32</td>\n      <td>+0.03</td>\n      <td>+0.02%</td>\n      <td>21.61M</td>\n      <td>2023-11-24</td>\n      <td>51.86M</td>\n      <td>1.52T</td>\n      <td>554.03B</td>\n      <td>74.87</td>\n      <td>1.180</td>\n    </tr>\n    <tr>\n      <th>...</th>\n      <td>...</td>\n      <td>...</td>\n      <td>...</td>\n      <td>...</td>\n      <td>...</td>\n      <td>...</td>\n      <td>...</td>\n      <td>...</td>\n      <td>...</td>\n      <td>...</td>\n      <td>...</td>\n      <td>...</td>\n      <td>...</td>\n    </tr>\n    <tr>\n      <th>962</th>\n      <td>Auburn</td>\n      <td>20.32</td>\n      <td>20.64</td>\n      <td>20.32</td>\n      <td>+0.03</td>\n      <td>+0.15%</td>\n      <td>0.12K</td>\n      <td>2023-11-24</td>\n      <td>2.23K</td>\n      <td>71.16M</td>\n      <td>33.23M</td>\n      <td>7.25</td>\n      <td>0.591</td>\n    </tr>\n    <tr>\n      <th>963</th>\n      <td>Acorn</td>\n      <td>7.60</td>\n      <td>7.60</td>\n      <td>7.60</td>\n      <td>-0.1500</td>\n      <td>-1.94%</td>\n      <td>0.10K</td>\n      <td>2023-11-24</td>\n      <td>1.99K</td>\n      <td>18.5M</td>\n      <td>7.65M</td>\n      <td>-447.06</td>\n      <td>0.796</td>\n    </tr>\n    <tr>\n      <th>964</th>\n      <td>Hong Kong TV Network</td>\n      <td>7.09</td>\n      <td>7.09</td>\n      <td>7.09</td>\n      <td>+0.250</td>\n      <td>+3.65%</td>\n      <td>0.10K</td>\n      <td>2023-11-24</td>\n      <td>0.25K</td>\n      <td>302.9M</td>\n      <td>3.73B</td>\n      <td>NaN</td>\n      <td>NaN</td>\n    </tr>\n    <tr>\n      <th>966</th>\n      <td>Formula Systems ADR</td>\n      <td>61.40</td>\n      <td>61.40</td>\n      <td>60.62</td>\n      <td>-0.15</td>\n      <td>-0.24%</td>\n      <td>0.09K</td>\n      <td>2023-11-24</td>\n      <td>0.71K</td>\n      <td>947.33M</td>\n      <td>2.64B</td>\n      <td>14.57</td>\n      <td>0.482</td>\n    </tr>\n    <tr>\n      <th>967</th>\n      <td>First Capital</td>\n      <td>25.87</td>\n      <td>25.87</td>\n      <td>25.87</td>\n      <td>+0.34</td>\n      <td>+1.33%</td>\n      <td>0.07K</td>\n      <td>2023-11-24</td>\n      <td>3.98K</td>\n      <td>88.12M</td>\n      <td>41.66M</td>\n      <td>6.46</td>\n      <td>0.503</td>\n    </tr>\n  </tbody>\n</table>\n<p>951 rows × 13 columns</p>\n</div>"
     },
     "execution_count": 185,
     "metadata": {},
     "output_type": "execute_result"
    }
   ],
   "source": [
    "df_investingFinal = df_investingFinal[df_investingFinal['Time'] >= '2023-11-24']\n",
    "df_investingFinal"
   ],
   "metadata": {
    "collapsed": false,
    "ExecuteTime": {
     "end_time": "2023-11-26T15:54:20.748164Z",
     "start_time": "2023-11-26T15:54:20.733011Z"
    }
   },
   "id": "15a501e4fc0677be"
  },
  {
   "cell_type": "code",
   "execution_count": 193,
   "outputs": [
    {
     "data": {
      "text/plain": "                                  Name    Last   High      Low     Chg.  \\\n3                           Ford Motor  10.400  10.53  10.2800    +0.14   \n6                       Riot Platforms  12.020  12.26  11.4200    +0.42   \n7                    Mullen Automotive   0.175   0.18   0.1717   0.0000   \n8                      Bank of America  29.730  29.89  29.4800    +0.10   \n9    Petroleo Brasileiro Petrobras ADR  15.330  15.74  15.2900    +0.03   \n..                                 ...     ...    ...      ...      ...   \n961             Bank of South Carolina  12.200  12.20  12.2000    +0.00   \n962                             Auburn  20.320  20.64  20.3200    +0.03   \n963                              Acorn   7.600   7.60   7.6000  -0.1500   \n966                Formula Systems ADR  61.400  61.40  60.6200    -0.15   \n967                      First Capital  25.870  25.87  25.8700    +0.34   \n\n     Chg. %    Vol.       Time Average Vol. (3m) Market Cap  Revenue  \\\n3    +1.36%  22.02M 2023-11-24            50.32M     41.63B  174.23B   \n6    +3.62%  18.29M 2023-11-24            20.61M      2.48B  262.01M   \n7     0.00%  16.10M 2023-11-24            51.90M     72.29M  308.00K   \n8    +0.34%  15.75M 2023-11-24            44.36M    235.28B   96.77B   \n9    +0.20%  15.48M 2023-11-24            18.40M     97.39B  536.32B   \n..      ...     ...        ...               ...        ...      ...   \n961  +0.00%   0.15K 2023-11-24             7.68K     70.73M   20.68M   \n962  +0.15%   0.12K 2023-11-24             2.23K     71.16M   33.23M   \n963  -1.94%   0.10K 2023-11-24             1.99K      18.5M    7.65M   \n966  -0.24%   0.09K 2023-11-24             0.71K    947.33M    2.64B   \n967  +1.33%   0.07K 2023-11-24             3.98K     88.12M   41.66M   \n\n     P/E Ratio   Beta  \n3         6.78  1.690  \n6        -6.86  4.250  \n7        -0.01  2.290  \n8         8.29  1.390  \n9         3.50  1.090  \n..         ...    ...  \n961      11.40  0.478  \n962       7.25  0.591  \n963    -447.06  0.796  \n966      14.57  0.482  \n967       6.46  0.503  \n\n[694 rows x 13 columns]",
      "text/html": "<div>\n<style scoped>\n    .dataframe tbody tr th:only-of-type {\n        vertical-align: middle;\n    }\n\n    .dataframe tbody tr th {\n        vertical-align: top;\n    }\n\n    .dataframe thead th {\n        text-align: right;\n    }\n</style>\n<table border=\"1\" class=\"dataframe\">\n  <thead>\n    <tr style=\"text-align: right;\">\n      <th></th>\n      <th>Name</th>\n      <th>Last</th>\n      <th>High</th>\n      <th>Low</th>\n      <th>Chg.</th>\n      <th>Chg. %</th>\n      <th>Vol.</th>\n      <th>Time</th>\n      <th>Average Vol. (3m)</th>\n      <th>Market Cap</th>\n      <th>Revenue</th>\n      <th>P/E Ratio</th>\n      <th>Beta</th>\n    </tr>\n  </thead>\n  <tbody>\n    <tr>\n      <th>3</th>\n      <td>Ford Motor</td>\n      <td>10.400</td>\n      <td>10.53</td>\n      <td>10.2800</td>\n      <td>+0.14</td>\n      <td>+1.36%</td>\n      <td>22.02M</td>\n      <td>2023-11-24</td>\n      <td>50.32M</td>\n      <td>41.63B</td>\n      <td>174.23B</td>\n      <td>6.78</td>\n      <td>1.690</td>\n    </tr>\n    <tr>\n      <th>6</th>\n      <td>Riot Platforms</td>\n      <td>12.020</td>\n      <td>12.26</td>\n      <td>11.4200</td>\n      <td>+0.42</td>\n      <td>+3.62%</td>\n      <td>18.29M</td>\n      <td>2023-11-24</td>\n      <td>20.61M</td>\n      <td>2.48B</td>\n      <td>262.01M</td>\n      <td>-6.86</td>\n      <td>4.250</td>\n    </tr>\n    <tr>\n      <th>7</th>\n      <td>Mullen Automotive</td>\n      <td>0.175</td>\n      <td>0.18</td>\n      <td>0.1717</td>\n      <td>0.0000</td>\n      <td>0.00%</td>\n      <td>16.10M</td>\n      <td>2023-11-24</td>\n      <td>51.90M</td>\n      <td>72.29M</td>\n      <td>308.00K</td>\n      <td>-0.01</td>\n      <td>2.290</td>\n    </tr>\n    <tr>\n      <th>8</th>\n      <td>Bank of America</td>\n      <td>29.730</td>\n      <td>29.89</td>\n      <td>29.4800</td>\n      <td>+0.10</td>\n      <td>+0.34%</td>\n      <td>15.75M</td>\n      <td>2023-11-24</td>\n      <td>44.36M</td>\n      <td>235.28B</td>\n      <td>96.77B</td>\n      <td>8.29</td>\n      <td>1.390</td>\n    </tr>\n    <tr>\n      <th>9</th>\n      <td>Petroleo Brasileiro Petrobras ADR</td>\n      <td>15.330</td>\n      <td>15.74</td>\n      <td>15.2900</td>\n      <td>+0.03</td>\n      <td>+0.20%</td>\n      <td>15.48M</td>\n      <td>2023-11-24</td>\n      <td>18.40M</td>\n      <td>97.39B</td>\n      <td>536.32B</td>\n      <td>3.50</td>\n      <td>1.090</td>\n    </tr>\n    <tr>\n      <th>...</th>\n      <td>...</td>\n      <td>...</td>\n      <td>...</td>\n      <td>...</td>\n      <td>...</td>\n      <td>...</td>\n      <td>...</td>\n      <td>...</td>\n      <td>...</td>\n      <td>...</td>\n      <td>...</td>\n      <td>...</td>\n      <td>...</td>\n    </tr>\n    <tr>\n      <th>961</th>\n      <td>Bank of South Carolina</td>\n      <td>12.200</td>\n      <td>12.20</td>\n      <td>12.2000</td>\n      <td>+0.00</td>\n      <td>+0.00%</td>\n      <td>0.15K</td>\n      <td>2023-11-24</td>\n      <td>7.68K</td>\n      <td>70.73M</td>\n      <td>20.68M</td>\n      <td>11.40</td>\n      <td>0.478</td>\n    </tr>\n    <tr>\n      <th>962</th>\n      <td>Auburn</td>\n      <td>20.320</td>\n      <td>20.64</td>\n      <td>20.3200</td>\n      <td>+0.03</td>\n      <td>+0.15%</td>\n      <td>0.12K</td>\n      <td>2023-11-24</td>\n      <td>2.23K</td>\n      <td>71.16M</td>\n      <td>33.23M</td>\n      <td>7.25</td>\n      <td>0.591</td>\n    </tr>\n    <tr>\n      <th>963</th>\n      <td>Acorn</td>\n      <td>7.600</td>\n      <td>7.60</td>\n      <td>7.6000</td>\n      <td>-0.1500</td>\n      <td>-1.94%</td>\n      <td>0.10K</td>\n      <td>2023-11-24</td>\n      <td>1.99K</td>\n      <td>18.5M</td>\n      <td>7.65M</td>\n      <td>-447.06</td>\n      <td>0.796</td>\n    </tr>\n    <tr>\n      <th>966</th>\n      <td>Formula Systems ADR</td>\n      <td>61.400</td>\n      <td>61.40</td>\n      <td>60.6200</td>\n      <td>-0.15</td>\n      <td>-0.24%</td>\n      <td>0.09K</td>\n      <td>2023-11-24</td>\n      <td>0.71K</td>\n      <td>947.33M</td>\n      <td>2.64B</td>\n      <td>14.57</td>\n      <td>0.482</td>\n    </tr>\n    <tr>\n      <th>967</th>\n      <td>First Capital</td>\n      <td>25.870</td>\n      <td>25.87</td>\n      <td>25.8700</td>\n      <td>+0.34</td>\n      <td>+1.33%</td>\n      <td>0.07K</td>\n      <td>2023-11-24</td>\n      <td>3.98K</td>\n      <td>88.12M</td>\n      <td>41.66M</td>\n      <td>6.46</td>\n      <td>0.503</td>\n    </tr>\n  </tbody>\n</table>\n<p>694 rows × 13 columns</p>\n</div>"
     },
     "execution_count": 193,
     "metadata": {},
     "output_type": "execute_result"
    }
   ],
   "source": [
    "df_investingFinal['P/E Ratio'] = pd.to_numeric(df_investingFinal['P/E Ratio'], errors='coerce')\n",
    "\n",
    "# Filtrar las filas donde el valor en la columna 'P/E Ratio' es menor o igual a 30\n",
    "condition = df_investingFinal['P/E Ratio'] < 30\n",
    "df_investingFinal = df_investingFinal.loc[condition].copy()\n",
    "\n",
    "df_investingFinal\n"
   ],
   "metadata": {
    "collapsed": false,
    "ExecuteTime": {
     "end_time": "2023-11-26T16:03:39.616529Z",
     "start_time": "2023-11-26T16:03:39.605161Z"
    }
   },
   "id": "e35a80d7202e9ef8"
  },
  {
   "cell_type": "code",
   "execution_count": 195,
   "outputs": [
    {
     "data": {
      "text/plain": "                                  Name    Last   High      Low     Chg.  \\\n3                           Ford Motor  10.400  10.53  10.2800    +0.14   \n6                       Riot Platforms  12.020  12.26  11.4200    +0.42   \n7                    Mullen Automotive   0.175   0.18   0.1717   0.0000   \n8                      Bank of America  29.730  29.89  29.4800    +0.10   \n9    Petroleo Brasileiro Petrobras ADR  15.330  15.74  15.2900    +0.03   \n..                                 ...     ...    ...      ...      ...   \n961             Bank of South Carolina  12.200  12.20  12.2000    +0.00   \n962                             Auburn  20.320  20.64  20.3200    +0.03   \n963                              Acorn   7.600   7.60   7.6000  -0.1500   \n966                Formula Systems ADR  61.400  61.40  60.6200    -0.15   \n967                      First Capital  25.870  25.87  25.8700    +0.34   \n\n     Chg. %    Vol.       Time Average Vol. (3m) Market Cap  Revenue  \\\n3    +1.36%  22.02M 2023-11-24            50.32M     41.63B  174.23B   \n6    +3.62%  18.29M 2023-11-24            20.61M      2.48B  262.01M   \n7     0.00%  16.10M 2023-11-24            51.90M     72.29M  308.00K   \n8    +0.34%  15.75M 2023-11-24            44.36M    235.28B   96.77B   \n9    +0.20%  15.48M 2023-11-24            18.40M     97.39B  536.32B   \n..      ...     ...        ...               ...        ...      ...   \n961  +0.00%   0.15K 2023-11-24             7.68K     70.73M   20.68M   \n962  +0.15%   0.12K 2023-11-24             2.23K     71.16M   33.23M   \n963  -1.94%   0.10K 2023-11-24             1.99K      18.5M    7.65M   \n966  -0.24%   0.09K 2023-11-24             0.71K    947.33M    2.64B   \n967  +1.33%   0.07K 2023-11-24             3.98K     88.12M   41.66M   \n\n     P/E Ratio   Beta  \n3         6.78  1.690  \n6        -6.86  4.250  \n7        -0.01  2.290  \n8         8.29  1.390  \n9         3.50  1.090  \n..         ...    ...  \n961      11.40  0.478  \n962       7.25  0.591  \n963    -447.06  0.796  \n966      14.57  0.482  \n967       6.46  0.503  \n\n[694 rows x 13 columns]",
      "text/html": "<div>\n<style scoped>\n    .dataframe tbody tr th:only-of-type {\n        vertical-align: middle;\n    }\n\n    .dataframe tbody tr th {\n        vertical-align: top;\n    }\n\n    .dataframe thead th {\n        text-align: right;\n    }\n</style>\n<table border=\"1\" class=\"dataframe\">\n  <thead>\n    <tr style=\"text-align: right;\">\n      <th></th>\n      <th>Name</th>\n      <th>Last</th>\n      <th>High</th>\n      <th>Low</th>\n      <th>Chg.</th>\n      <th>Chg. %</th>\n      <th>Vol.</th>\n      <th>Time</th>\n      <th>Average Vol. (3m)</th>\n      <th>Market Cap</th>\n      <th>Revenue</th>\n      <th>P/E Ratio</th>\n      <th>Beta</th>\n    </tr>\n  </thead>\n  <tbody>\n    <tr>\n      <th>3</th>\n      <td>Ford Motor</td>\n      <td>10.400</td>\n      <td>10.53</td>\n      <td>10.2800</td>\n      <td>+0.14</td>\n      <td>+1.36%</td>\n      <td>22.02M</td>\n      <td>2023-11-24</td>\n      <td>50.32M</td>\n      <td>41.63B</td>\n      <td>174.23B</td>\n      <td>6.78</td>\n      <td>1.690</td>\n    </tr>\n    <tr>\n      <th>6</th>\n      <td>Riot Platforms</td>\n      <td>12.020</td>\n      <td>12.26</td>\n      <td>11.4200</td>\n      <td>+0.42</td>\n      <td>+3.62%</td>\n      <td>18.29M</td>\n      <td>2023-11-24</td>\n      <td>20.61M</td>\n      <td>2.48B</td>\n      <td>262.01M</td>\n      <td>-6.86</td>\n      <td>4.250</td>\n    </tr>\n    <tr>\n      <th>7</th>\n      <td>Mullen Automotive</td>\n      <td>0.175</td>\n      <td>0.18</td>\n      <td>0.1717</td>\n      <td>0.0000</td>\n      <td>0.00%</td>\n      <td>16.10M</td>\n      <td>2023-11-24</td>\n      <td>51.90M</td>\n      <td>72.29M</td>\n      <td>308.00K</td>\n      <td>-0.01</td>\n      <td>2.290</td>\n    </tr>\n    <tr>\n      <th>8</th>\n      <td>Bank of America</td>\n      <td>29.730</td>\n      <td>29.89</td>\n      <td>29.4800</td>\n      <td>+0.10</td>\n      <td>+0.34%</td>\n      <td>15.75M</td>\n      <td>2023-11-24</td>\n      <td>44.36M</td>\n      <td>235.28B</td>\n      <td>96.77B</td>\n      <td>8.29</td>\n      <td>1.390</td>\n    </tr>\n    <tr>\n      <th>9</th>\n      <td>Petroleo Brasileiro Petrobras ADR</td>\n      <td>15.330</td>\n      <td>15.74</td>\n      <td>15.2900</td>\n      <td>+0.03</td>\n      <td>+0.20%</td>\n      <td>15.48M</td>\n      <td>2023-11-24</td>\n      <td>18.40M</td>\n      <td>97.39B</td>\n      <td>536.32B</td>\n      <td>3.50</td>\n      <td>1.090</td>\n    </tr>\n    <tr>\n      <th>...</th>\n      <td>...</td>\n      <td>...</td>\n      <td>...</td>\n      <td>...</td>\n      <td>...</td>\n      <td>...</td>\n      <td>...</td>\n      <td>...</td>\n      <td>...</td>\n      <td>...</td>\n      <td>...</td>\n      <td>...</td>\n      <td>...</td>\n    </tr>\n    <tr>\n      <th>961</th>\n      <td>Bank of South Carolina</td>\n      <td>12.200</td>\n      <td>12.20</td>\n      <td>12.2000</td>\n      <td>+0.00</td>\n      <td>+0.00%</td>\n      <td>0.15K</td>\n      <td>2023-11-24</td>\n      <td>7.68K</td>\n      <td>70.73M</td>\n      <td>20.68M</td>\n      <td>11.40</td>\n      <td>0.478</td>\n    </tr>\n    <tr>\n      <th>962</th>\n      <td>Auburn</td>\n      <td>20.320</td>\n      <td>20.64</td>\n      <td>20.3200</td>\n      <td>+0.03</td>\n      <td>+0.15%</td>\n      <td>0.12K</td>\n      <td>2023-11-24</td>\n      <td>2.23K</td>\n      <td>71.16M</td>\n      <td>33.23M</td>\n      <td>7.25</td>\n      <td>0.591</td>\n    </tr>\n    <tr>\n      <th>963</th>\n      <td>Acorn</td>\n      <td>7.600</td>\n      <td>7.60</td>\n      <td>7.6000</td>\n      <td>-0.1500</td>\n      <td>-1.94%</td>\n      <td>0.10K</td>\n      <td>2023-11-24</td>\n      <td>1.99K</td>\n      <td>18.5M</td>\n      <td>7.65M</td>\n      <td>-447.06</td>\n      <td>0.796</td>\n    </tr>\n    <tr>\n      <th>966</th>\n      <td>Formula Systems ADR</td>\n      <td>61.400</td>\n      <td>61.40</td>\n      <td>60.6200</td>\n      <td>-0.15</td>\n      <td>-0.24%</td>\n      <td>0.09K</td>\n      <td>2023-11-24</td>\n      <td>0.71K</td>\n      <td>947.33M</td>\n      <td>2.64B</td>\n      <td>14.57</td>\n      <td>0.482</td>\n    </tr>\n    <tr>\n      <th>967</th>\n      <td>First Capital</td>\n      <td>25.870</td>\n      <td>25.87</td>\n      <td>25.8700</td>\n      <td>+0.34</td>\n      <td>+1.33%</td>\n      <td>0.07K</td>\n      <td>2023-11-24</td>\n      <td>3.98K</td>\n      <td>88.12M</td>\n      <td>41.66M</td>\n      <td>6.46</td>\n      <td>0.503</td>\n    </tr>\n  </tbody>\n</table>\n<p>694 rows × 13 columns</p>\n</div>"
     },
     "execution_count": 195,
     "metadata": {},
     "output_type": "execute_result"
    }
   ],
   "source": [
    "df_investingFinal = df_investingFinal.dropna()\n",
    "df_investingFinal"
   ],
   "metadata": {
    "collapsed": false,
    "ExecuteTime": {
     "end_time": "2023-11-26T16:03:54.303521Z",
     "start_time": "2023-11-26T16:03:54.298686Z"
    }
   },
   "id": "1ca68cf4354fac87"
  },
  {
   "cell_type": "code",
   "execution_count": 197,
   "outputs": [
    {
     "data": {
      "text/plain": "                                  Name    Last   High      Low     Chg.  \\\n3                           Ford Motor  10.400  10.53  10.2800    +0.14   \n6                       Riot Platforms  12.020  12.26  11.4200    +0.42   \n7                    Mullen Automotive   0.175   0.18   0.1717   0.0000   \n8                      Bank of America  29.730  29.89  29.4800    +0.10   \n9    Petroleo Brasileiro Petrobras ADR  15.330  15.74  15.2900    +0.03   \n..                                 ...     ...    ...      ...      ...   \n961             Bank of South Carolina  12.200  12.20  12.2000    +0.00   \n962                             Auburn  20.320  20.64  20.3200    +0.03   \n963                              Acorn   7.600   7.60   7.6000  -0.1500   \n966                Formula Systems ADR  61.400  61.40  60.6200    -0.15   \n967                      First Capital  25.870  25.87  25.8700    +0.34   \n\n     Chg. %    Vol.       Time Average Vol. (3m) Market Cap  Revenue  \\\n3    +1.36%  22.02M 2023-11-24            50.32M     41.63B  174.23B   \n6    +3.62%  18.29M 2023-11-24            20.61M      2.48B  262.01M   \n7     0.00%  16.10M 2023-11-24            51.90M     72.29M  308.00K   \n8    +0.34%  15.75M 2023-11-24            44.36M    235.28B   96.77B   \n9    +0.20%  15.48M 2023-11-24            18.40M     97.39B  536.32B   \n..      ...     ...        ...               ...        ...      ...   \n961  +0.00%   0.15K 2023-11-24             7.68K     70.73M   20.68M   \n962  +0.15%   0.12K 2023-11-24             2.23K     71.16M   33.23M   \n963  -1.94%   0.10K 2023-11-24             1.99K      18.5M    7.65M   \n966  -0.24%   0.09K 2023-11-24             0.71K    947.33M    2.64B   \n967  +1.33%   0.07K 2023-11-24             3.98K     88.12M   41.66M   \n\n     P/E Ratio   Beta        EPS  \n3         6.78  1.690   1.516224  \n6        -6.86  4.250  -1.664723  \n7        -0.01  2.290 -17.170000  \n8         8.29  1.390   3.556092  \n9         3.50  1.090   4.368571  \n..         ...    ...        ...  \n961      11.40  0.478   1.070175  \n962       7.25  0.591   2.802759  \n963    -447.06  0.796  -0.017000  \n966      14.57  0.482   4.160604  \n967       6.46  0.503   4.004644  \n\n[694 rows x 14 columns]",
      "text/html": "<div>\n<style scoped>\n    .dataframe tbody tr th:only-of-type {\n        vertical-align: middle;\n    }\n\n    .dataframe tbody tr th {\n        vertical-align: top;\n    }\n\n    .dataframe thead th {\n        text-align: right;\n    }\n</style>\n<table border=\"1\" class=\"dataframe\">\n  <thead>\n    <tr style=\"text-align: right;\">\n      <th></th>\n      <th>Name</th>\n      <th>Last</th>\n      <th>High</th>\n      <th>Low</th>\n      <th>Chg.</th>\n      <th>Chg. %</th>\n      <th>Vol.</th>\n      <th>Time</th>\n      <th>Average Vol. (3m)</th>\n      <th>Market Cap</th>\n      <th>Revenue</th>\n      <th>P/E Ratio</th>\n      <th>Beta</th>\n      <th>EPS</th>\n    </tr>\n  </thead>\n  <tbody>\n    <tr>\n      <th>3</th>\n      <td>Ford Motor</td>\n      <td>10.400</td>\n      <td>10.53</td>\n      <td>10.2800</td>\n      <td>+0.14</td>\n      <td>+1.36%</td>\n      <td>22.02M</td>\n      <td>2023-11-24</td>\n      <td>50.32M</td>\n      <td>41.63B</td>\n      <td>174.23B</td>\n      <td>6.78</td>\n      <td>1.690</td>\n      <td>1.516224</td>\n    </tr>\n    <tr>\n      <th>6</th>\n      <td>Riot Platforms</td>\n      <td>12.020</td>\n      <td>12.26</td>\n      <td>11.4200</td>\n      <td>+0.42</td>\n      <td>+3.62%</td>\n      <td>18.29M</td>\n      <td>2023-11-24</td>\n      <td>20.61M</td>\n      <td>2.48B</td>\n      <td>262.01M</td>\n      <td>-6.86</td>\n      <td>4.250</td>\n      <td>-1.664723</td>\n    </tr>\n    <tr>\n      <th>7</th>\n      <td>Mullen Automotive</td>\n      <td>0.175</td>\n      <td>0.18</td>\n      <td>0.1717</td>\n      <td>0.0000</td>\n      <td>0.00%</td>\n      <td>16.10M</td>\n      <td>2023-11-24</td>\n      <td>51.90M</td>\n      <td>72.29M</td>\n      <td>308.00K</td>\n      <td>-0.01</td>\n      <td>2.290</td>\n      <td>-17.170000</td>\n    </tr>\n    <tr>\n      <th>8</th>\n      <td>Bank of America</td>\n      <td>29.730</td>\n      <td>29.89</td>\n      <td>29.4800</td>\n      <td>+0.10</td>\n      <td>+0.34%</td>\n      <td>15.75M</td>\n      <td>2023-11-24</td>\n      <td>44.36M</td>\n      <td>235.28B</td>\n      <td>96.77B</td>\n      <td>8.29</td>\n      <td>1.390</td>\n      <td>3.556092</td>\n    </tr>\n    <tr>\n      <th>9</th>\n      <td>Petroleo Brasileiro Petrobras ADR</td>\n      <td>15.330</td>\n      <td>15.74</td>\n      <td>15.2900</td>\n      <td>+0.03</td>\n      <td>+0.20%</td>\n      <td>15.48M</td>\n      <td>2023-11-24</td>\n      <td>18.40M</td>\n      <td>97.39B</td>\n      <td>536.32B</td>\n      <td>3.50</td>\n      <td>1.090</td>\n      <td>4.368571</td>\n    </tr>\n    <tr>\n      <th>...</th>\n      <td>...</td>\n      <td>...</td>\n      <td>...</td>\n      <td>...</td>\n      <td>...</td>\n      <td>...</td>\n      <td>...</td>\n      <td>...</td>\n      <td>...</td>\n      <td>...</td>\n      <td>...</td>\n      <td>...</td>\n      <td>...</td>\n      <td>...</td>\n    </tr>\n    <tr>\n      <th>961</th>\n      <td>Bank of South Carolina</td>\n      <td>12.200</td>\n      <td>12.20</td>\n      <td>12.2000</td>\n      <td>+0.00</td>\n      <td>+0.00%</td>\n      <td>0.15K</td>\n      <td>2023-11-24</td>\n      <td>7.68K</td>\n      <td>70.73M</td>\n      <td>20.68M</td>\n      <td>11.40</td>\n      <td>0.478</td>\n      <td>1.070175</td>\n    </tr>\n    <tr>\n      <th>962</th>\n      <td>Auburn</td>\n      <td>20.320</td>\n      <td>20.64</td>\n      <td>20.3200</td>\n      <td>+0.03</td>\n      <td>+0.15%</td>\n      <td>0.12K</td>\n      <td>2023-11-24</td>\n      <td>2.23K</td>\n      <td>71.16M</td>\n      <td>33.23M</td>\n      <td>7.25</td>\n      <td>0.591</td>\n      <td>2.802759</td>\n    </tr>\n    <tr>\n      <th>963</th>\n      <td>Acorn</td>\n      <td>7.600</td>\n      <td>7.60</td>\n      <td>7.6000</td>\n      <td>-0.1500</td>\n      <td>-1.94%</td>\n      <td>0.10K</td>\n      <td>2023-11-24</td>\n      <td>1.99K</td>\n      <td>18.5M</td>\n      <td>7.65M</td>\n      <td>-447.06</td>\n      <td>0.796</td>\n      <td>-0.017000</td>\n    </tr>\n    <tr>\n      <th>966</th>\n      <td>Formula Systems ADR</td>\n      <td>61.400</td>\n      <td>61.40</td>\n      <td>60.6200</td>\n      <td>-0.15</td>\n      <td>-0.24%</td>\n      <td>0.09K</td>\n      <td>2023-11-24</td>\n      <td>0.71K</td>\n      <td>947.33M</td>\n      <td>2.64B</td>\n      <td>14.57</td>\n      <td>0.482</td>\n      <td>4.160604</td>\n    </tr>\n    <tr>\n      <th>967</th>\n      <td>First Capital</td>\n      <td>25.870</td>\n      <td>25.87</td>\n      <td>25.8700</td>\n      <td>+0.34</td>\n      <td>+1.33%</td>\n      <td>0.07K</td>\n      <td>2023-11-24</td>\n      <td>3.98K</td>\n      <td>88.12M</td>\n      <td>41.66M</td>\n      <td>6.46</td>\n      <td>0.503</td>\n      <td>4.004644</td>\n    </tr>\n  </tbody>\n</table>\n<p>694 rows × 14 columns</p>\n</div>"
     },
     "execution_count": 197,
     "metadata": {},
     "output_type": "execute_result"
    }
   ],
   "source": [
    "df_investingFinal['Low'] = pd.to_numeric(df_investingFinal['Low'], errors='coerce')\n",
    "df_investingFinal['P/E Ratio'] = pd.to_numeric(df_investingFinal['P/E Ratio'], errors='coerce')\n",
    "df_investingFinal['EPS'] = df_investingFinal['Low'] / df_investingFinal['P/E Ratio']\n",
    "df_investingFinal"
   ],
   "metadata": {
    "collapsed": false,
    "ExecuteTime": {
     "end_time": "2023-11-26T16:17:36.192590Z",
     "start_time": "2023-11-26T16:17:36.180688Z"
    }
   },
   "id": "b2129dee7c31e0b2"
  },
  {
   "cell_type": "code",
   "execution_count": 199,
   "outputs": [
    {
     "data": {
      "text/plain": "                                  Name    Last    High     Low   Chg.  Chg. %  \\\n3                           Ford Motor   10.40   10.53   10.28  +0.14  +1.36%   \n8                      Bank of America   29.73   29.89   29.48  +0.10  +0.34%   \n9    Petroleo Brasileiro Petrobras ADR   15.33   15.74   15.29  +0.03  +0.20%   \n12                          Alphabet A  136.69  138.13  135.99  -1.80  -1.30%   \n14                              Pfizer   30.50   30.70   30.38  +0.18  +0.59%   \n..                                 ...     ...     ...     ...    ...     ...   \n960                           Citizens   10.34   10.34   10.30  +0.09  +0.83%   \n961             Bank of South Carolina   12.20   12.20   12.20  +0.00  +0.00%   \n962                             Auburn   20.32   20.64   20.32  +0.03  +0.15%   \n966                Formula Systems ADR   61.40   61.40   60.62  -0.15  -0.24%   \n967                      First Capital   25.87   25.87   25.87  +0.34  +1.33%   \n\n       Vol.       Time Average Vol. (3m) Market Cap  Revenue  P/E Ratio  \\\n3    22.02M 2023-11-24            50.32M     41.63B  174.23B       6.78   \n8    15.75M 2023-11-24            44.36M    235.28B   96.77B       8.29   \n9    15.48M 2023-11-24            18.40M     97.39B  536.32B       3.50   \n12   12.51M 2023-11-24            26.73M      1.72T  297.13B      26.38   \n14   11.13M 2023-11-24            28.13M    172.22B   68.54B      16.44   \n..      ...        ...               ...        ...      ...        ...   \n960   0.16K 2023-11-24             5.41K     57.57M   41.09M      11.23   \n961   0.15K 2023-11-24             7.68K     70.73M   20.68M      11.40   \n962   0.12K 2023-11-24             2.23K     71.16M   33.23M       7.25   \n966   0.09K 2023-11-24             0.71K    947.33M    2.64B      14.57   \n967   0.07K 2023-11-24             3.98K     88.12M   41.66M       6.46   \n\n      Beta       EPS  \n3    1.690  1.516224  \n8    1.390  3.556092  \n9    1.090  4.368571  \n12   1.050  5.155042  \n14   0.579  1.847932  \n..     ...       ...  \n960  0.044  0.917186  \n961  0.478  1.070175  \n962  0.591  2.802759  \n966  0.482  4.160604  \n967  0.503  4.004644  \n\n[498 rows x 14 columns]",
      "text/html": "<div>\n<style scoped>\n    .dataframe tbody tr th:only-of-type {\n        vertical-align: middle;\n    }\n\n    .dataframe tbody tr th {\n        vertical-align: top;\n    }\n\n    .dataframe thead th {\n        text-align: right;\n    }\n</style>\n<table border=\"1\" class=\"dataframe\">\n  <thead>\n    <tr style=\"text-align: right;\">\n      <th></th>\n      <th>Name</th>\n      <th>Last</th>\n      <th>High</th>\n      <th>Low</th>\n      <th>Chg.</th>\n      <th>Chg. %</th>\n      <th>Vol.</th>\n      <th>Time</th>\n      <th>Average Vol. (3m)</th>\n      <th>Market Cap</th>\n      <th>Revenue</th>\n      <th>P/E Ratio</th>\n      <th>Beta</th>\n      <th>EPS</th>\n    </tr>\n  </thead>\n  <tbody>\n    <tr>\n      <th>3</th>\n      <td>Ford Motor</td>\n      <td>10.40</td>\n      <td>10.53</td>\n      <td>10.28</td>\n      <td>+0.14</td>\n      <td>+1.36%</td>\n      <td>22.02M</td>\n      <td>2023-11-24</td>\n      <td>50.32M</td>\n      <td>41.63B</td>\n      <td>174.23B</td>\n      <td>6.78</td>\n      <td>1.690</td>\n      <td>1.516224</td>\n    </tr>\n    <tr>\n      <th>8</th>\n      <td>Bank of America</td>\n      <td>29.73</td>\n      <td>29.89</td>\n      <td>29.48</td>\n      <td>+0.10</td>\n      <td>+0.34%</td>\n      <td>15.75M</td>\n      <td>2023-11-24</td>\n      <td>44.36M</td>\n      <td>235.28B</td>\n      <td>96.77B</td>\n      <td>8.29</td>\n      <td>1.390</td>\n      <td>3.556092</td>\n    </tr>\n    <tr>\n      <th>9</th>\n      <td>Petroleo Brasileiro Petrobras ADR</td>\n      <td>15.33</td>\n      <td>15.74</td>\n      <td>15.29</td>\n      <td>+0.03</td>\n      <td>+0.20%</td>\n      <td>15.48M</td>\n      <td>2023-11-24</td>\n      <td>18.40M</td>\n      <td>97.39B</td>\n      <td>536.32B</td>\n      <td>3.50</td>\n      <td>1.090</td>\n      <td>4.368571</td>\n    </tr>\n    <tr>\n      <th>12</th>\n      <td>Alphabet A</td>\n      <td>136.69</td>\n      <td>138.13</td>\n      <td>135.99</td>\n      <td>-1.80</td>\n      <td>-1.30%</td>\n      <td>12.51M</td>\n      <td>2023-11-24</td>\n      <td>26.73M</td>\n      <td>1.72T</td>\n      <td>297.13B</td>\n      <td>26.38</td>\n      <td>1.050</td>\n      <td>5.155042</td>\n    </tr>\n    <tr>\n      <th>14</th>\n      <td>Pfizer</td>\n      <td>30.50</td>\n      <td>30.70</td>\n      <td>30.38</td>\n      <td>+0.18</td>\n      <td>+0.59%</td>\n      <td>11.13M</td>\n      <td>2023-11-24</td>\n      <td>28.13M</td>\n      <td>172.22B</td>\n      <td>68.54B</td>\n      <td>16.44</td>\n      <td>0.579</td>\n      <td>1.847932</td>\n    </tr>\n    <tr>\n      <th>...</th>\n      <td>...</td>\n      <td>...</td>\n      <td>...</td>\n      <td>...</td>\n      <td>...</td>\n      <td>...</td>\n      <td>...</td>\n      <td>...</td>\n      <td>...</td>\n      <td>...</td>\n      <td>...</td>\n      <td>...</td>\n      <td>...</td>\n      <td>...</td>\n    </tr>\n    <tr>\n      <th>960</th>\n      <td>Citizens</td>\n      <td>10.34</td>\n      <td>10.34</td>\n      <td>10.30</td>\n      <td>+0.09</td>\n      <td>+0.83%</td>\n      <td>0.16K</td>\n      <td>2023-11-24</td>\n      <td>5.41K</td>\n      <td>57.57M</td>\n      <td>41.09M</td>\n      <td>11.23</td>\n      <td>0.044</td>\n      <td>0.917186</td>\n    </tr>\n    <tr>\n      <th>961</th>\n      <td>Bank of South Carolina</td>\n      <td>12.20</td>\n      <td>12.20</td>\n      <td>12.20</td>\n      <td>+0.00</td>\n      <td>+0.00%</td>\n      <td>0.15K</td>\n      <td>2023-11-24</td>\n      <td>7.68K</td>\n      <td>70.73M</td>\n      <td>20.68M</td>\n      <td>11.40</td>\n      <td>0.478</td>\n      <td>1.070175</td>\n    </tr>\n    <tr>\n      <th>962</th>\n      <td>Auburn</td>\n      <td>20.32</td>\n      <td>20.64</td>\n      <td>20.32</td>\n      <td>+0.03</td>\n      <td>+0.15%</td>\n      <td>0.12K</td>\n      <td>2023-11-24</td>\n      <td>2.23K</td>\n      <td>71.16M</td>\n      <td>33.23M</td>\n      <td>7.25</td>\n      <td>0.591</td>\n      <td>2.802759</td>\n    </tr>\n    <tr>\n      <th>966</th>\n      <td>Formula Systems ADR</td>\n      <td>61.40</td>\n      <td>61.40</td>\n      <td>60.62</td>\n      <td>-0.15</td>\n      <td>-0.24%</td>\n      <td>0.09K</td>\n      <td>2023-11-24</td>\n      <td>0.71K</td>\n      <td>947.33M</td>\n      <td>2.64B</td>\n      <td>14.57</td>\n      <td>0.482</td>\n      <td>4.160604</td>\n    </tr>\n    <tr>\n      <th>967</th>\n      <td>First Capital</td>\n      <td>25.87</td>\n      <td>25.87</td>\n      <td>25.87</td>\n      <td>+0.34</td>\n      <td>+1.33%</td>\n      <td>0.07K</td>\n      <td>2023-11-24</td>\n      <td>3.98K</td>\n      <td>88.12M</td>\n      <td>41.66M</td>\n      <td>6.46</td>\n      <td>0.503</td>\n      <td>4.004644</td>\n    </tr>\n  </tbody>\n</table>\n<p>498 rows × 14 columns</p>\n</div>"
     },
     "execution_count": 199,
     "metadata": {},
     "output_type": "execute_result"
    }
   ],
   "source": [
    "df_investingFinal = df_investingFinal[df_investingFinal['EPS'] >= 0].copy()\n",
    "df_investingFinal"
   ],
   "metadata": {
    "collapsed": false,
    "ExecuteTime": {
     "end_time": "2023-11-26T18:12:55.941188Z",
     "start_time": "2023-11-26T18:12:55.923085Z"
    }
   },
   "id": "ce28f0f8dc571e3c"
  },
  {
   "cell_type": "code",
   "execution_count": 202,
   "outputs": [],
   "source": [
    "df_investingFinal.to_csv('finInvesting.csv', index=False)"
   ],
   "metadata": {
    "collapsed": false,
    "ExecuteTime": {
     "end_time": "2023-11-26T18:15:27.571151Z",
     "start_time": "2023-11-26T18:15:27.562330Z"
    }
   },
   "id": "88c9948368f09e2c"
  },
  {
   "cell_type": "code",
   "execution_count": null,
   "outputs": [],
   "source": [],
   "metadata": {
    "collapsed": false
   },
   "id": "e3e16d5ad1047df8"
  }
 ],
 "metadata": {
  "kernelspec": {
   "display_name": "Python 3",
   "language": "python",
   "name": "python3"
  },
  "language_info": {
   "codemirror_mode": {
    "name": "ipython",
    "version": 2
   },
   "file_extension": ".py",
   "mimetype": "text/x-python",
   "name": "python",
   "nbconvert_exporter": "python",
   "pygments_lexer": "ipython2",
   "version": "2.7.6"
  }
 },
 "nbformat": 4,
 "nbformat_minor": 5
}
