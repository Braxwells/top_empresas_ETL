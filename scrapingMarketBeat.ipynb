{
 "cells": [
  {
   "cell_type": "code",
   "execution_count": 7,
   "id": "initial_id",
   "metadata": {
    "collapsed": true,
    "ExecuteTime": {
     "end_time": "2023-11-26T16:57:38.948408Z",
     "start_time": "2023-11-26T16:57:38.946427Z"
    }
   },
   "outputs": [],
   "source": [
    "from selenium import webdriver\n",
    "from selenium.webdriver.common.by import By\n",
    "import pandas as pd\n",
    "import time\n",
    "from io import StringIO\n"
   ]
  },
  {
   "cell_type": "code",
   "execution_count": 77,
   "outputs": [],
   "source": [
    "# Configuración del navegador\n",
    "driver = webdriver.Chrome()\n",
    "\n",
    "url = 'https://www.marketbeat.com/stock-screener/#how-to-use-the-marketbeat-stock-screener-find-stocks-to-buy'\n",
    "driver.get(url)\n",
    "\n",
    "time.sleep(5)"
   ],
   "metadata": {
    "collapsed": false,
    "ExecuteTime": {
     "end_time": "2023-11-26T21:29:42.544559Z",
     "start_time": "2023-11-26T21:29:33.623223Z"
    }
   },
   "id": "d29b8a2eb314f54b"
  },
  {
   "cell_type": "code",
   "execution_count": 78,
   "outputs": [],
   "source": [
    "driver.find_element(By.CLASS_NAME, 'fc-button-label').click()\n",
    "time.sleep(5)\n",
    "\n",
    "driver.find_element(By.CLASS_NAME, 'x').click()"
   ],
   "metadata": {
    "collapsed": false,
    "ExecuteTime": {
     "end_time": "2023-11-26T21:29:51.524205Z",
     "start_time": "2023-11-26T21:29:46.264660Z"
    }
   },
   "id": "746bcff539de2d66"
  },
  {
   "cell_type": "code",
   "execution_count": 65,
   "outputs": [],
   "source": [
    "driver.find_element(By.ID, 'filterPanelButton').click()\n",
    "time.sleep(2)\n",
    "driver.find_element(By.ID, 'headingResultLimits').click()\n",
    "time.sleep(2)\n",
    "driver.find_element(By.XPATH,\"/html/body/div[2]/main/div[2]/article/form/div[3]/div[2]/div[1]/div/div[1]/div[1]/div[1]/div/ul/li[7]/label\").click()\n",
    "time.sleep(2)\n",
    "driver.find_element(By.ID, 'filterPanelButton').click()\n",
    "time.sleep(2)"
   ],
   "metadata": {
    "collapsed": false,
    "ExecuteTime": {
     "end_time": "2023-11-26T18:07:23.052414Z",
     "start_time": "2023-11-26T18:07:11.750785Z"
    }
   },
   "id": "dd96bbac0dcf51a"
  },
  {
   "cell_type": "code",
   "execution_count": 66,
   "outputs": [],
   "source": [
    "\n",
    "driver.find_element(By.ID, 'columnPanelButton').click()\n",
    "time.sleep(2)\n",
    "driver.find_element(By.ID, 'headingScreenerColumn_Dividend').click()\n",
    "time.sleep(2)"
   ],
   "metadata": {
    "collapsed": false,
    "ExecuteTime": {
     "end_time": "2023-11-26T18:07:30.379011Z",
     "start_time": "2023-11-26T18:07:26.185431Z"
    }
   },
   "id": "7263dd55dafedfff"
  },
  {
   "cell_type": "code",
   "execution_count": 67,
   "outputs": [],
   "source": [
    "\n",
    "driver.find_element(By.XPATH, '//*[@id=\"lstScreenerColumn_Dividend\"]/li[8]/label').click()\n",
    "time.sleep(2)\n",
    "driver.find_element(By.ID, 'headingScreenerColumn_Dividend').click()\n",
    "time.sleep(2)\n",
    "driver.find_element(By.ID, 'headingScreenerColumn_Earnings').click()\n",
    "time.sleep(2)"
   ],
   "metadata": {
    "collapsed": false,
    "ExecuteTime": {
     "end_time": "2023-11-26T18:07:37.985812Z",
     "start_time": "2023-11-26T18:07:31.525733Z"
    }
   },
   "id": "62fdea11dc6fd4cd"
  },
  {
   "cell_type": "code",
   "execution_count": 68,
   "outputs": [],
   "source": [
    "driver.find_element(By.XPATH, '//*[@id=\"lstScreenerColumn_Earnings\"]/li[2]/label').click()\n",
    "time.sleep(2)\n",
    "driver.find_element(By.ID, 'columnPanelButton').click()"
   ],
   "metadata": {
    "collapsed": false,
    "ExecuteTime": {
     "end_time": "2023-11-26T18:07:42.595222Z",
     "start_time": "2023-11-26T18:07:39.693129Z"
    }
   },
   "id": "21b4dba3389c52f5"
  },
  {
   "cell_type": "code",
   "execution_count": 69,
   "outputs": [],
   "source": [
    "table_element = driver.find_element(By.XPATH,'//*[@id=\"cphPrimaryContent_upResults\"]/div[2]/div/table')\n",
    "\n",
    "\n",
    "table_html = table_element.get_attribute('outerHTML')\n",
    "\n",
    "# Utilizar pandas para leer la tabla HTML y convertirla a un DataFrame\n",
    "df = pd.read_html(StringIO(table_html))[0]\n",
    "\n",
    "# Guardar el DataFrame en un archivo CSV\n",
    "df.to_csv('datos.csv', index=False)"
   ],
   "metadata": {
    "collapsed": false,
    "ExecuteTime": {
     "end_time": "2023-11-26T18:07:47.841377Z",
     "start_time": "2023-11-26T18:07:45.744219Z"
    }
   },
   "id": "c7b582ab2101beb9"
  },
  {
   "cell_type": "code",
   "execution_count": 72,
   "outputs": [
    {
     "data": {
      "text/plain": "                                      Name                      Sector  \\\n0                                AAPLApple     Computer and Technology   \n1                            MSFTMicrosoft     Computer and Technology   \n5                               NVDANVIDIA     Computer and Technology   \n10                LLYEli Lilly and Company                     Medical   \n11   TSMTaiwan Semiconductor Manufacturing     Computer and Technology   \n..                                     ...                         ...   \n985                              AMCRAmcor         Industrial Products   \n988                  CSLCarlisle Companies  Multi-Sector Conglomerates   \n990                            NDSNNordson         Industrial Products   \n994                               MASMasco                Construction   \n997                   RPMRPM International                Construction   \n\n    Current Price Market Cap Dividend Payment Schedule Consensus Price Target  \\\n0         $189.97     $2.95T                 Quarterly                $198.25   \n1         $377.43     $2.81T                 Quarterly                $388.84   \n5         $477.76     $1.18T                 Quarterly                $588.38   \n10        $601.10   $570.63B                 Quarterly                $557.00   \n11         $97.83   $507.39B                 Quarterly                $116.67   \n..            ...        ...                       ...                    ...   \n985         $9.36    $13.53B                 Quarterly                 $10.40   \n988       $275.80    $13.43B                 Quarterly                $307.14   \n990       $235.21    $13.41B                 Quarterly                $258.83   \n994        $59.19    $13.29B                 Quarterly                 $61.69   \n997       $102.35    $13.19B                 Quarterly                $104.00   \n\n    Upside/Downside   Consensus Rating Current Year EPS Estimate  \\\n0             4.36%  Moderate Buy 2.77                     $6.56   \n1             3.02%  Moderate Buy 2.89                    $11.13   \n5            23.15%  Moderate Buy 2.92                     $9.71   \n10           -7.34%  Moderate Buy 2.81                     $6.62   \n11           19.25%           Buy 3.00                     $4.97   \n..              ...                ...                       ...   \n985          11.11%        Reduce 1.80                     $0.69   \n988          11.36%  Moderate Buy 2.57                    $14.77   \n990          10.04%  Moderate Buy 2.60                     $8.96   \n994           4.23%          Hold 2.46                     $3.73   \n997           1.61%          Hold 2.22                     $5.00   \n\n     P/E Ratio (Trailing)  \n0                   31.04  \n1                   36.54  \n5                   63.03  \n10                 108.89  \n11                  17.60  \n..                    ...  \n985                 14.18  \n988                 19.19  \n990                 27.10  \n994                 16.13  \n997                 25.78  \n\n[447 rows x 10 columns]",
      "text/html": "<div>\n<style scoped>\n    .dataframe tbody tr th:only-of-type {\n        vertical-align: middle;\n    }\n\n    .dataframe tbody tr th {\n        vertical-align: top;\n    }\n\n    .dataframe thead th {\n        text-align: right;\n    }\n</style>\n<table border=\"1\" class=\"dataframe\">\n  <thead>\n    <tr style=\"text-align: right;\">\n      <th></th>\n      <th>Name</th>\n      <th>Sector</th>\n      <th>Current Price</th>\n      <th>Market Cap</th>\n      <th>Dividend Payment Schedule</th>\n      <th>Consensus Price Target</th>\n      <th>Upside/Downside</th>\n      <th>Consensus Rating</th>\n      <th>Current Year EPS Estimate</th>\n      <th>P/E Ratio (Trailing)</th>\n    </tr>\n  </thead>\n  <tbody>\n    <tr>\n      <th>0</th>\n      <td>AAPLApple</td>\n      <td>Computer and Technology</td>\n      <td>$189.97</td>\n      <td>$2.95T</td>\n      <td>Quarterly</td>\n      <td>$198.25</td>\n      <td>4.36%</td>\n      <td>Moderate Buy 2.77</td>\n      <td>$6.56</td>\n      <td>31.04</td>\n    </tr>\n    <tr>\n      <th>1</th>\n      <td>MSFTMicrosoft</td>\n      <td>Computer and Technology</td>\n      <td>$377.43</td>\n      <td>$2.81T</td>\n      <td>Quarterly</td>\n      <td>$388.84</td>\n      <td>3.02%</td>\n      <td>Moderate Buy 2.89</td>\n      <td>$11.13</td>\n      <td>36.54</td>\n    </tr>\n    <tr>\n      <th>5</th>\n      <td>NVDANVIDIA</td>\n      <td>Computer and Technology</td>\n      <td>$477.76</td>\n      <td>$1.18T</td>\n      <td>Quarterly</td>\n      <td>$588.38</td>\n      <td>23.15%</td>\n      <td>Moderate Buy 2.92</td>\n      <td>$9.71</td>\n      <td>63.03</td>\n    </tr>\n    <tr>\n      <th>10</th>\n      <td>LLYEli Lilly and Company</td>\n      <td>Medical</td>\n      <td>$601.10</td>\n      <td>$570.63B</td>\n      <td>Quarterly</td>\n      <td>$557.00</td>\n      <td>-7.34%</td>\n      <td>Moderate Buy 2.81</td>\n      <td>$6.62</td>\n      <td>108.89</td>\n    </tr>\n    <tr>\n      <th>11</th>\n      <td>TSMTaiwan Semiconductor Manufacturing</td>\n      <td>Computer and Technology</td>\n      <td>$97.83</td>\n      <td>$507.39B</td>\n      <td>Quarterly</td>\n      <td>$116.67</td>\n      <td>19.25%</td>\n      <td>Buy 3.00</td>\n      <td>$4.97</td>\n      <td>17.60</td>\n    </tr>\n    <tr>\n      <th>...</th>\n      <td>...</td>\n      <td>...</td>\n      <td>...</td>\n      <td>...</td>\n      <td>...</td>\n      <td>...</td>\n      <td>...</td>\n      <td>...</td>\n      <td>...</td>\n      <td>...</td>\n    </tr>\n    <tr>\n      <th>985</th>\n      <td>AMCRAmcor</td>\n      <td>Industrial Products</td>\n      <td>$9.36</td>\n      <td>$13.53B</td>\n      <td>Quarterly</td>\n      <td>$10.40</td>\n      <td>11.11%</td>\n      <td>Reduce 1.80</td>\n      <td>$0.69</td>\n      <td>14.18</td>\n    </tr>\n    <tr>\n      <th>988</th>\n      <td>CSLCarlisle Companies</td>\n      <td>Multi-Sector Conglomerates</td>\n      <td>$275.80</td>\n      <td>$13.43B</td>\n      <td>Quarterly</td>\n      <td>$307.14</td>\n      <td>11.36%</td>\n      <td>Moderate Buy 2.57</td>\n      <td>$14.77</td>\n      <td>19.19</td>\n    </tr>\n    <tr>\n      <th>990</th>\n      <td>NDSNNordson</td>\n      <td>Industrial Products</td>\n      <td>$235.21</td>\n      <td>$13.41B</td>\n      <td>Quarterly</td>\n      <td>$258.83</td>\n      <td>10.04%</td>\n      <td>Moderate Buy 2.60</td>\n      <td>$8.96</td>\n      <td>27.10</td>\n    </tr>\n    <tr>\n      <th>994</th>\n      <td>MASMasco</td>\n      <td>Construction</td>\n      <td>$59.19</td>\n      <td>$13.29B</td>\n      <td>Quarterly</td>\n      <td>$61.69</td>\n      <td>4.23%</td>\n      <td>Hold 2.46</td>\n      <td>$3.73</td>\n      <td>16.13</td>\n    </tr>\n    <tr>\n      <th>997</th>\n      <td>RPMRPM International</td>\n      <td>Construction</td>\n      <td>$102.35</td>\n      <td>$13.19B</td>\n      <td>Quarterly</td>\n      <td>$104.00</td>\n      <td>1.61%</td>\n      <td>Hold 2.22</td>\n      <td>$5.00</td>\n      <td>25.78</td>\n    </tr>\n  </tbody>\n</table>\n<p>447 rows × 10 columns</p>\n</div>"
     },
     "execution_count": 72,
     "metadata": {},
     "output_type": "execute_result"
    }
   ],
   "source": [
    "df_MB = pd.read_csv('datos.csv')\n",
    "df_MB.rename(columns={'Company': 'Name'}, inplace=True)\n",
    "df_MB.dropna(inplace=True)\n",
    "df_MB"
   ],
   "metadata": {
    "collapsed": false,
    "ExecuteTime": {
     "end_time": "2023-11-26T18:09:30.837992Z",
     "start_time": "2023-11-26T18:09:30.822349Z"
    }
   },
   "id": "8a0dcaa99b06cc5e"
  },
  {
   "cell_type": "code",
   "execution_count": 74,
   "outputs": [],
   "source": [
    "df_MB.to_csv('finMB.csv', index=False)"
   ],
   "metadata": {
    "collapsed": false,
    "ExecuteTime": {
     "end_time": "2023-11-26T18:15:02.736009Z",
     "start_time": "2023-11-26T18:15:02.730077Z"
    }
   },
   "id": "b198d885da7b34e6"
  },
  {
   "cell_type": "code",
   "execution_count": null,
   "outputs": [],
   "source": [],
   "metadata": {
    "collapsed": false
   },
   "id": "7fc449b09b0de425"
  }
 ],
 "metadata": {
  "kernelspec": {
   "display_name": "Python 3",
   "language": "python",
   "name": "python3"
  },
  "language_info": {
   "codemirror_mode": {
    "name": "ipython",
    "version": 2
   },
   "file_extension": ".py",
   "mimetype": "text/x-python",
   "name": "python",
   "nbconvert_exporter": "python",
   "pygments_lexer": "ipython2",
   "version": "2.7.6"
  }
 },
 "nbformat": 4,
 "nbformat_minor": 5
}
